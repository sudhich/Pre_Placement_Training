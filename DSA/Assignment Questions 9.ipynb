{
 "cells": [
  {
   "cell_type": "markdown",
   "id": "997821a5",
   "metadata": {},
   "source": [
    "### Ans(1)"
   ]
  },
  {
   "cell_type": "code",
   "execution_count": 2,
   "id": "59467460",
   "metadata": {},
   "outputs": [
    {
     "name": "stdout",
     "output_type": "stream",
     "text": [
      "True\n",
      "True\n",
      "False\n"
     ]
    }
   ],
   "source": [
    "def is_power_of_two(n):\n",
    "    if n == 0:\n",
    "        return False\n",
    "    while n % 2 == 0:\n",
    "        n //= 2\n",
    "    return n == 1\n",
    "\n",
    "n = 1\n",
    "if is_power_of_two(n):\n",
    "    print(\"True\")\n",
    "else:\n",
    "    print(\"False\")\n",
    "n = 16\n",
    "if is_power_of_two(n):\n",
    "    print(\"True\")\n",
    "else:\n",
    "    print(\"False\")\n",
    "n = 3\n",
    "if is_power_of_two(n):\n",
    "    print(\"True\")\n",
    "else:\n",
    "    print(\"False\")"
   ]
  },
  {
   "cell_type": "markdown",
   "id": "90436bed",
   "metadata": {},
   "source": [
    "### 2nd method"
   ]
  },
  {
   "cell_type": "code",
   "execution_count": 1,
   "id": "f0c8365e",
   "metadata": {},
   "outputs": [
    {
     "name": "stdout",
     "output_type": "stream",
     "text": [
      "True\n",
      "True\n",
      "False\n"
     ]
    }
   ],
   "source": [
    "def isPowerOfTwo(n):\n",
    "    if n <= 0:\n",
    "        return False\n",
    "    return n & (n - 1) == 0\n",
    "print(isPowerOfTwo(1))  # Output: True\n",
    "print(isPowerOfTwo(16))  # Output: True\n",
    "print(isPowerOfTwo(3))  # Output: False\n"
   ]
  },
  {
   "cell_type": "markdown",
   "id": "a01681d7",
   "metadata": {},
   "source": [
    "### Ans(2):"
   ]
  },
  {
   "cell_type": "code",
   "execution_count": 6,
   "id": "a6cbc50c",
   "metadata": {},
   "outputs": [
    {
     "name": "stdout",
     "output_type": "stream",
     "text": [
      "6\n"
     ]
    }
   ],
   "source": [
    "def sum_of_natural_numbers(n):\n",
    "    sum = n * (n + 1) // 2\n",
    "    return sum\n",
    "\n",
    "# Example usage:\n",
    "n = 3\n",
    "result = sum_of_natural_numbers(n)\n",
    "print(result)\n"
   ]
  },
  {
   "cell_type": "markdown",
   "id": "1cdff67c",
   "metadata": {},
   "source": [
    "### Ans(3):"
   ]
  },
  {
   "cell_type": "code",
   "execution_count": 7,
   "id": "ec257aa2",
   "metadata": {},
   "outputs": [
    {
     "name": "stdout",
     "output_type": "stream",
     "text": [
      "120\n"
     ]
    }
   ],
   "source": [
    "def factorial(n):\n",
    "    if n == 0:\n",
    "        return 1\n",
    "    else:\n",
    "        return n * factorial(n - 1)\n",
    "\n",
    "\n",
    "\n",
    "n = 5\n",
    "print(factorial(n))\n"
   ]
  },
  {
   "cell_type": "markdown",
   "id": "4ae7acc0",
   "metadata": {},
   "source": [
    "### Ans(4):"
   ]
  },
  {
   "cell_type": "code",
   "execution_count": 8,
   "id": "e9647d4d",
   "metadata": {},
   "outputs": [
    {
     "name": "stdout",
     "output_type": "stream",
     "text": [
      "25\n"
     ]
    }
   ],
   "source": [
    "def calculate_exponent(N, P):\n",
    "    result = N ** P\n",
    "    return result\n",
    "\n",
    "# Example usage:\n",
    "N = 5\n",
    "P = 2\n",
    "result = calculate_exponent(N, P)\n",
    "print(result)\n"
   ]
  },
  {
   "cell_type": "markdown",
   "id": "88862f58",
   "metadata": {},
   "source": [
    "### Ans(5):"
   ]
  },
  {
   "cell_type": "code",
   "execution_count": 9,
   "id": "a5336cce",
   "metadata": {},
   "outputs": [
    {
     "name": "stdout",
     "output_type": "stream",
     "text": [
      "8\n"
     ]
    }
   ],
   "source": [
    "def find_maximum(arr, index):\n",
    "    # Base case: If index reaches the end of the array, return the maximum value found\n",
    "    if index == len(arr) - 1:\n",
    "        return arr[index]\n",
    "\n",
    "    # Recursive case: Compare current element with the maximum value found so far\n",
    "    # and make a recursive call to compare remaining elements\n",
    "    return max(arr[index], find_maximum(arr, index + 1))\n",
    "\n",
    "# Example usage:\n",
    "arr = [1, 4, 3, -5, -4, 8, 6]\n",
    "result = find_maximum(arr, 0)\n",
    "print(result)\n"
   ]
  },
  {
   "cell_type": "markdown",
   "id": "8d148d5b",
   "metadata": {},
   "source": [
    "### Ans(6):"
   ]
  },
  {
   "cell_type": "code",
   "execution_count": 10,
   "id": "d20a3f92",
   "metadata": {},
   "outputs": [
    {
     "name": "stdout",
     "output_type": "stream",
     "text": [
      "6\n"
     ]
    }
   ],
   "source": [
    "def find_nth_term(a, d, N):\n",
    "    nth_term = a + (N - 1) * d\n",
    "    return nth_term\n",
    "\n",
    "# Example usage:\n",
    "a = 2\n",
    "d = 1\n",
    "N = 5\n",
    "result = find_nth_term(a, d, N)\n",
    "print(result)\n"
   ]
  },
  {
   "cell_type": "markdown",
   "id": "bc2d6d73",
   "metadata": {},
   "source": [
    "### Ans(7):"
   ]
  },
  {
   "cell_type": "code",
   "execution_count": 12,
   "id": "027179b7",
   "metadata": {},
   "outputs": [
    {
     "name": "stdout",
     "output_type": "stream",
     "text": [
      "ABC\n",
      "ACB\n",
      "BAC\n",
      "BCA\n",
      "CBA\n",
      "CAB\n"
     ]
    }
   ],
   "source": [
    "def permutations(s, l, r):\n",
    "    if l == r:\n",
    "        print(\"\".join(s))\n",
    "    else:\n",
    "        for i in range(l, r + 1):\n",
    "            s[l], s[i] = s[i], s[l]  # Swap characters\n",
    "            permutations(s, l + 1, r)  # Recurse on remaining characters\n",
    "            s[l], s[i] = s[i], s[l]  # Backtrack (undo the swap)\n",
    "\n",
    "# Example usage:\n",
    "S = \"ABC\"\n",
    "n = len(S)\n",
    "s = list(S)  # Convert string to a list of characters\n",
    "permutations(s, 0, n - 1)\n"
   ]
  },
  {
   "cell_type": "markdown",
   "id": "55ab4b20",
   "metadata": {},
   "source": [
    "### Ans(8):"
   ]
  },
  {
   "cell_type": "code",
   "execution_count": 13,
   "id": "654bddb2",
   "metadata": {},
   "outputs": [
    {
     "name": "stdout",
     "output_type": "stream",
     "text": [
      "120\n"
     ]
    }
   ],
   "source": [
    "def product_of_array(arr):\n",
    "    product = 1\n",
    "    for num in arr:\n",
    "        product *= num\n",
    "    return product\n",
    "\n",
    "# Example usage:\n",
    "arr = [1, 2, 3, 4, 5]\n",
    "result = product_of_array(arr)\n",
    "print(result)\n"
   ]
  },
  {
   "cell_type": "code",
   "execution_count": null,
   "id": "427d86b4",
   "metadata": {},
   "outputs": [],
   "source": []
  }
 ],
 "metadata": {
  "kernelspec": {
   "display_name": "Python 3 (ipykernel)",
   "language": "python",
   "name": "python3"
  },
  "language_info": {
   "codemirror_mode": {
    "name": "ipython",
    "version": 3
   },
   "file_extension": ".py",
   "mimetype": "text/x-python",
   "name": "python",
   "nbconvert_exporter": "python",
   "pygments_lexer": "ipython3",
   "version": "3.9.13"
  }
 },
 "nbformat": 4,
 "nbformat_minor": 5
}
