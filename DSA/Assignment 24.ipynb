{
 "cells": [
  {
   "cell_type": "markdown",
   "id": "16043918",
   "metadata": {},
   "source": [
    "## Assignment 24"
   ]
  },
  {
   "cell_type": "markdown",
   "id": "04222bf9",
   "metadata": {},
   "source": [
    "### 💡 **Answer 1: Roman to Integer**\n"
   ]
  },
  {
   "cell_type": "code",
   "execution_count": 1,
   "id": "a92da2fe",
   "metadata": {},
   "outputs": [],
   "source": [
    "def romanToInt(s):\n",
    "    roman_values = {\n",
    "        'I': 1,\n",
    "        'V': 5,\n",
    "        'X': 10,\n",
    "        'L': 50,\n",
    "        'C': 100,\n",
    "        'D': 500,\n",
    "        'M': 1000\n",
    "    }\n",
    "    \n",
    "    result = 0\n",
    "    prev_value = 0\n",
    "    \n",
    "    for char in s[::-1]:\n",
    "        current_value = roman_values[char]\n",
    "        if current_value >= prev_value:\n",
    "            result += current_value\n",
    "        else:\n",
    "            result -= current_value\n",
    "        prev_value = current_value\n",
    "    \n",
    "    return result\n"
   ]
  },
  {
   "cell_type": "markdown",
   "id": "cf1faad3",
   "metadata": {},
   "source": [
    "### 💡 **Answer 2: Longest Substring Without Repeating Characters**\n"
   ]
  },
  {
   "cell_type": "code",
   "execution_count": 2,
   "id": "e7e1bf63",
   "metadata": {},
   "outputs": [],
   "source": [
    "def lengthOfLongestSubstring(s):\n",
    "    char_indices = {}\n",
    "    max_length = 0\n",
    "    left = 0\n",
    "    \n",
    "    for right in range(len(s)):\n",
    "        if s[right] in char_indices and char_indices[s[right]] >= left:\n",
    "            left = char_indices[s[right]] + 1\n",
    "        char_indices[s[right]] = right\n",
    "        max_length = max(max_length, right - left + 1)\n",
    "    \n",
    "    return max_length\n"
   ]
  },
  {
   "cell_type": "markdown",
   "id": "38c166ec",
   "metadata": {},
   "source": [
    "### 💡 **Answer 3: Majority Element**"
   ]
  },
  {
   "cell_type": "code",
   "execution_count": 3,
   "id": "66d8c3ea",
   "metadata": {},
   "outputs": [],
   "source": [
    "\n",
    "def majorityElement(nums):\n",
    "    candidate = None\n",
    "    count = 0\n",
    "    \n",
    "    for num in nums:\n",
    "        if count == 0:\n",
    "            candidate = num\n",
    "            count = 1\n",
    "        elif num == candidate:\n",
    "            count += 1\n",
    "        else:\n",
    "            count -= 1\n",
    "    \n",
    "    return candidate\n",
    "\n"
   ]
  },
  {
   "cell_type": "markdown",
   "id": "ff4777d6",
   "metadata": {},
   "source": [
    "### 💡 **Answer 4: Group Anagram**"
   ]
  },
  {
   "cell_type": "code",
   "execution_count": 4,
   "id": "e7811f0a",
   "metadata": {},
   "outputs": [],
   "source": [
    "\n",
    "from collections import defaultdict\n",
    "\n",
    "def groupAnagrams(strs):\n",
    "    anagrams = defaultdict(list)\n",
    "    \n",
    "    for word in strs:\n",
    "        sorted_word = ''.join(sorted(word))\n",
    "        anagrams[sorted_word].append(word)\n",
    "    \n",
    "    return list(anagrams.values())\n"
   ]
  },
  {
   "cell_type": "markdown",
   "id": "ad433002",
   "metadata": {},
   "source": [
    "### 💡 **Answer 5: Ugly Numbers**"
   ]
  },
  {
   "cell_type": "code",
   "execution_count": 5,
   "id": "5e022265",
   "metadata": {},
   "outputs": [],
   "source": [
    "\n",
    "def nthUglyNumber(n):\n",
    "    ugly = [1]\n",
    "    p2, p3, p5 = 0, 0, 0\n",
    "    \n",
    "    for _ in range(n - 1):\n",
    "        next_ugly = min(ugly[p2] * 2, ugly[p3] * 3, ugly[p5] * 5)\n",
    "        ugly.append(next_ugly)\n",
    "        \n",
    "        if next_ugly == ugly[p2] * 2:\n",
    "            p2 += 1\n",
    "        if next_ugly == ugly[p3] * 3:\n",
    "            p3 += 1\n",
    "        if next_ugly == ugly[p5] * 5:\n",
    "            p5 += 1\n",
    "    \n",
    "    return ugly[-1]\n"
   ]
  },
  {
   "cell_type": "markdown",
   "id": "f345d90c",
   "metadata": {},
   "source": [
    "### 💡 **Answer 6: Top K Frequent Words**"
   ]
  },
  {
   "cell_type": "code",
   "execution_count": 6,
   "id": "77009f9f",
   "metadata": {},
   "outputs": [],
   "source": [
    "\n",
    "import heapq\n",
    "from collections import Counter\n",
    "\n",
    "def topKFrequent(words, k):\n",
    "    freq_counter = Counter(words)\n",
    "    max_heap = [(-freq, word) for word, freq in freq_counter.items()]\n",
    "    heapq.heapify(max_heap)\n",
    "    \n",
    "    return [heapq.heappop(max_heap)[1] for _ in range(k)]\n",
    "\n"
   ]
  },
  {
   "cell_type": "markdown",
   "id": "478864f1",
   "metadata": {},
   "source": [
    "### 💡 **Answer 7: Sliding Window Maximum**"
   ]
  },
  {
   "cell_type": "code",
   "execution_count": 7,
   "id": "c47b872f",
   "metadata": {},
   "outputs": [],
   "source": [
    "\n",
    "from collections import deque\n",
    "\n",
    "def maxSlidingWindow(nums, k):\n",
    "    max_window = []\n",
    "    window = deque()\n",
    "    \n",
    "    for i, num in enumerate(nums):\n",
    "        while window and nums[window[-1]] < num:\n",
    "            window.pop()\n",
    "        window.append(i)\n",
    "        \n",
    "        if window[0] == i - k:\n",
    "            window.popleft()\n",
    "        \n",
    "        if i >= k - 1:\n",
    "            max_window.append(nums[window[0]])\n",
    "    \n",
    "    return max_window\n",
    "\n"
   ]
  },
  {
   "cell_type": "markdown",
   "id": "55d75033",
   "metadata": {},
   "source": [
    "### 💡 **Answer 8: Find K Closest Elements**"
   ]
  },
  {
   "cell_type": "code",
   "execution_count": 8,
   "id": "102e1aee",
   "metadata": {},
   "outputs": [],
   "source": [
    "\n",
    "def findClosestElements(arr, k, x):\n",
    "    left, right = 0, len(arr) - k\n",
    "    \n",
    "    while left < right:\n",
    "        mid = (left + right) // 2\n",
    "        if x - arr[mid] > arr[mid + k] - x:\n",
    "            left = mid + 1\n",
    "        else:\n",
    "            right = mid\n",
    "            \n",
    "    return arr[left:left + k]\n"
   ]
  },
  {
   "cell_type": "code",
   "execution_count": null,
   "id": "b8801704",
   "metadata": {},
   "outputs": [],
   "source": []
  }
 ],
 "metadata": {
  "kernelspec": {
   "display_name": "Python 3 (ipykernel)",
   "language": "python",
   "name": "python3"
  },
  "language_info": {
   "codemirror_mode": {
    "name": "ipython",
    "version": 3
   },
   "file_extension": ".py",
   "mimetype": "text/x-python",
   "name": "python",
   "nbconvert_exporter": "python",
   "pygments_lexer": "ipython3",
   "version": "3.9.13"
  }
 },
 "nbformat": 4,
 "nbformat_minor": 5
}
