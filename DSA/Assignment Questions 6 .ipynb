{
 "cells": [
  {
   "cell_type": "markdown",
   "id": "997821a5",
   "metadata": {},
   "source": [
    "### Ans(1)"
   ]
  },
  {
   "cell_type": "code",
   "execution_count": 36,
   "id": "f0c8365e",
   "metadata": {},
   "outputs": [
    {
     "name": "stdout",
     "output_type": "stream",
     "text": [
      "[0, 4, 1, 3, 2]\n"
     ]
    }
   ],
   "source": [
    "def diStringMatch(S):\n",
    "    lo, hi = 0, len(S)\n",
    "    ans = []\n",
    "    for x in S:\n",
    "        if x == 'I':\n",
    "            ans.append(lo)\n",
    "            lo += 1\n",
    "        else:\n",
    "            ans.append(hi)\n",
    "            hi -= 1\n",
    "\n",
    "    return ans + [lo]\n",
    "s = \"IDID\"\n",
    "perm = diStringMatch(s)\n",
    "print(perm)\n",
    "\n"
   ]
  },
  {
   "cell_type": "markdown",
   "id": "a01681d7",
   "metadata": {},
   "source": [
    "### Ans(2):"
   ]
  },
  {
   "cell_type": "code",
   "execution_count": 32,
   "id": "a6cbc50c",
   "metadata": {},
   "outputs": [
    {
     "name": "stdout",
     "output_type": "stream",
     "text": [
      "False\n"
     ]
    }
   ],
   "source": [
    "def searchMatrix(matrix: list[list[int]], target: int) -> bool:\n",
    "    for row in matrix:\n",
    "        if target in row:\n",
    "            return True\n",
    "    return False\n",
    "matrix = [[1,3,5,7],[10,11,16,20],[23,30,34,60]]\n",
    "target = 13\n",
    "print(searchMatrix(matrix,target))"
   ]
  },
  {
   "cell_type": "markdown",
   "id": "1cdff67c",
   "metadata": {},
   "source": [
    "### Ans(3):"
   ]
  },
  {
   "cell_type": "code",
   "execution_count": 38,
   "id": "ec257aa2",
   "metadata": {},
   "outputs": [
    {
     "name": "stdout",
     "output_type": "stream",
     "text": [
      "False\n"
     ]
    }
   ],
   "source": [
    "\n",
    "def validMountainArray(A):\n",
    "    N = len(A)\n",
    "    i = 0\n",
    "\n",
    "    # walk up\n",
    "    while i+1 < N and A[i] < A[i+1]:\n",
    "        i += 1\n",
    "\n",
    "    # peak can't be first or last\n",
    "    if i == 0 or i == N-1:\n",
    "        return False\n",
    "\n",
    "    # walk down\n",
    "    while i+1 < N and A[i] > A[i+1]:\n",
    "        i += 1\n",
    "\n",
    "    return i == N-1\n",
    "arr = [2,1]\n",
    "print(validMountainArray(arr))"
   ]
  },
  {
   "cell_type": "markdown",
   "id": "4ae7acc0",
   "metadata": {},
   "source": [
    "### Ans(4):"
   ]
  },
  {
   "cell_type": "code",
   "execution_count": 39,
   "id": "e9647d4d",
   "metadata": {},
   "outputs": [
    {
     "name": "stdout",
     "output_type": "stream",
     "text": [
      "2\n"
     ]
    }
   ],
   "source": [
    "def findMaxLength(nums):\n",
    "    max_length = 0\n",
    "    count = 0\n",
    "    prefix_sums = {0: -1}\n",
    "    \n",
    "    for i in range(len(nums)):\n",
    "        if nums[i] == 1:\n",
    "            count += 1\n",
    "        else:\n",
    "            count -= 1\n",
    "        \n",
    "        if count == 0:\n",
    "            max_length = max(max_length, i + 1)\n",
    "        elif count in prefix_sums:\n",
    "            max_length = max(max_length, i - prefix_sums[count])\n",
    "        else:\n",
    "            prefix_sums[count] = i\n",
    "    \n",
    "    return max_length\n",
    "nums = [0, 1]\n",
    "print(findMaxLength(nums))\n"
   ]
  },
  {
   "cell_type": "markdown",
   "id": "88862f58",
   "metadata": {},
   "source": [
    "### Ans(5):"
   ]
  },
  {
   "cell_type": "code",
   "execution_count": 49,
   "id": "a5336cce",
   "metadata": {},
   "outputs": [
    {
     "name": "stdout",
     "output_type": "stream",
     "text": [
      "40\n"
     ]
    }
   ],
   "source": [
    "def minProductSum(nums1: list[int], nums2: list[int]) -> int:\n",
    "    nums1.sort()\n",
    "    nums2.sort()\n",
    "    n, res = len(nums1), 0\n",
    "    for i in range(n):\n",
    "        res += nums1[i] * nums2[n - i - 1]\n",
    "    return res\n",
    "\n",
    "nums1 = [5,3,4,2]\n",
    "nums2 = [4,2,2,5]\n",
    "print(minProductSum(nums1,nums2))"
   ]
  },
  {
   "cell_type": "markdown",
   "id": "8d148d5b",
   "metadata": {},
   "source": [
    "### Ans(6):"
   ]
  },
  {
   "cell_type": "code",
   "execution_count": 3,
   "id": "d20a3f92",
   "metadata": {},
   "outputs": [
    {
     "name": "stdout",
     "output_type": "stream",
     "text": [
      "[1, 3, 4]\n"
     ]
    }
   ],
   "source": [
    "from collections import Counter\n",
    "def findOriginalArray(changed: list[int]) -> list[int]:\n",
    "    C = changed\n",
    "    C.sort()\n",
    "    H = Counter(C)\n",
    "    ans = []\n",
    "    for c in C:\n",
    "        if H[c]:\n",
    "            H[c] -= 1\n",
    "            if H.get(c+c, 0) > 0:\n",
    "                H[c+c] -= 1\n",
    "                ans.append(c)\n",
    "            else:\n",
    "                return []\n",
    "    return ans\n",
    "\n",
    "changed = [1,3,4,2,6,8]\n",
    "print(findOriginalArray(changed))"
   ]
  },
  {
   "cell_type": "markdown",
   "id": "bc2d6d73",
   "metadata": {},
   "source": [
    "### Ans(7):"
   ]
  },
  {
   "cell_type": "code",
   "execution_count": 4,
   "id": "027179b7",
   "metadata": {},
   "outputs": [
    {
     "name": "stdout",
     "output_type": "stream",
     "text": [
      "[[1, 2, 3], [8, 9, 4], [7, 6, 5]]\n"
     ]
    }
   ],
   "source": [
    "def generateMatrix(n):\n",
    "    matrix = [[0] * n for _ in range(n)]\n",
    "    row_start = 0\n",
    "    row_end = n - 1\n",
    "    col_start = 0\n",
    "    col_end = n - 1\n",
    "    num = 1\n",
    "    \n",
    "    while row_start <= row_end and col_start <= col_end:\n",
    "        for j in range(col_start, col_end + 1):\n",
    "            matrix[row_start][j] = num\n",
    "            num += 1\n",
    "        row_start += 1\n",
    "        \n",
    "        for i in range(row_start, row_end + 1):\n",
    "            matrix[i][col_end] = num\n",
    "            num += 1\n",
    "        col_end -= 1\n",
    "        \n",
    "        if row_start <= row_end:\n",
    "            for j in range(col_end, col_start - 1, -1):\n",
    "                matrix[row_end][j] = num\n",
    "                num += 1\n",
    "            row_end -= 1\n",
    "        \n",
    "        if col_start <= col_end:\n",
    "            for i in range(row_end, row_start - 1, -1):\n",
    "                matrix[i][col_start] = num\n",
    "                num += 1\n",
    "            col_start += 1\n",
    "    \n",
    "    return matrix\n",
    "n = 3\n",
    "print(generateMatrix(n))\n"
   ]
  },
  {
   "cell_type": "markdown",
   "id": "55ab4b20",
   "metadata": {},
   "source": [
    "### Ans(8):"
   ]
  },
  {
   "cell_type": "code",
   "execution_count": 5,
   "id": "654bddb2",
   "metadata": {},
   "outputs": [
    {
     "name": "stdout",
     "output_type": "stream",
     "text": [
      "[[7, 0, 0], [-7, 0, 3]]\n"
     ]
    }
   ],
   "source": [
    "def multiply(mat1, mat2):\n",
    "    m, k = len(mat1), len(mat1[0])\n",
    "    k, n = len(mat2), len(mat2[0])\n",
    "    \n",
    "    result = [[0] * n for _ in range(m)]\n",
    "    \n",
    "    for i in range(m):\n",
    "        for j in range(n):\n",
    "            for p in range(k):\n",
    "                result[i][j] += mat1[i][p] * mat2[p][j]\n",
    "    \n",
    "    return result\n",
    "mat1 = [[1, 0, 0], [-1, 0, 3]]\n",
    "mat2 = [[7, 0, 0], [0, 0, 0], [0, 0, 1]]\n",
    "print(multiply(mat1, mat2))\n"
   ]
  },
  {
   "cell_type": "code",
   "execution_count": null,
   "id": "427d86b4",
   "metadata": {},
   "outputs": [],
   "source": []
  }
 ],
 "metadata": {
  "kernelspec": {
   "display_name": "Python 3 (ipykernel)",
   "language": "python",
   "name": "python3"
  },
  "language_info": {
   "codemirror_mode": {
    "name": "ipython",
    "version": 3
   },
   "file_extension": ".py",
   "mimetype": "text/x-python",
   "name": "python",
   "nbconvert_exporter": "python",
   "pygments_lexer": "ipython3",
   "version": "3.9.13"
  }
 },
 "nbformat": 4,
 "nbformat_minor": 5
}
