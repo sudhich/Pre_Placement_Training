{
 "cells": [
  {
   "cell_type": "markdown",
   "id": "ef359d72",
   "metadata": {},
   "source": [
    "## Assignment 14"
   ]
  },
  {
   "cell_type": "markdown",
   "id": "bf75f4f1",
   "metadata": {},
   "source": [
    "### 💡 **Answer 1: Remove Loop in a Linked List**"
   ]
  },
  {
   "cell_type": "code",
   "execution_count": 2,
   "id": "efdcb5d4",
   "metadata": {},
   "outputs": [],
   "source": [
    "#To remove the loop from a linked list, we can use Floyd's Cycle Detection Algorithm (also known as the \"tortoise and hare\" algorithm). Here's the Python implementation:\n",
    "\n",
    "class ListNode:\n",
    "    def __init__(self, value):\n",
    "        self.value = value\n",
    "        self.next = None\n",
    "\n",
    "def detectAndRemoveLoop(head):\n",
    "    slow = head\n",
    "    fast = head\n",
    "\n",
    "    # Detect if there is a loop in the linked list\n",
    "    while fast and fast.next:\n",
    "        slow = slow.next\n",
    "        fast = fast.next.next\n",
    "\n",
    "        if slow == fast:\n",
    "            break\n",
    "\n",
    "    # If there is no loop, return\n",
    "    if slow != fast:\n",
    "        return False\n",
    "\n",
    "    # Move slow to the head and keep fast at the meeting point\n",
    "    slow = head\n",
    "    while slow.next != fast.next:\n",
    "        slow = slow.next\n",
    "        fast = fast.next\n",
    "\n",
    "    # Remove the loop\n",
    "    fast.next = None\n",
    "    return True"
   ]
  },
  {
   "cell_type": "markdown",
   "id": "fed9cb7f",
   "metadata": {},
   "source": [
    "### 💡 **Answer 2: Add 1 to Linked List Number**"
   ]
  },
  {
   "cell_type": "code",
   "execution_count": 4,
   "id": "d8510246",
   "metadata": {},
   "outputs": [],
   "source": [
    "class ListNode:\n",
    "    def __init__(self, value):\n",
    "        self.value = value\n",
    "        self.next = None\n",
    "\n",
    "def reverseLinkedList(head):\n",
    "    prev = None\n",
    "    current = head\n",
    "    while current:\n",
    "        next_node = current.next\n",
    "        current.next = prev\n",
    "        prev = current\n",
    "        current = next_node\n",
    "    return prev\n",
    "\n",
    "def addOne(head):\n",
    "    reversed_head = reverseLinkedList(head)\n",
    "    current = reversed_head\n",
    "    carry = 1\n",
    "\n",
    "    while current:\n",
    "        sum_val = current.value + carry\n",
    "        current.value = sum_val % 10\n",
    "        carry = sum_val // 10\n",
    "        prev = current\n",
    "        current = current.next\n",
    "\n",
    "    if carry:\n",
    "        prev.next = ListNode(carry)\n",
    "\n",
    "    return reverseLinkedList(reversed_head)\n",
    "\n",
    "\n"
   ]
  },
  {
   "cell_type": "markdown",
   "id": "9db415eb",
   "metadata": {},
   "source": [
    "### 💡 **Answer 3: Flatten a Linked List**\n"
   ]
  },
  {
   "cell_type": "code",
   "execution_count": 5,
   "id": "3b7663af",
   "metadata": {},
   "outputs": [],
   "source": [
    "class ListNode:\n",
    "    def __init__(self, value):\n",
    "        self.value = value\n",
    "        self.next = None\n",
    "        self.bottom = None\n",
    "\n",
    "def mergeSortedLists(a, b):\n",
    "    dummy = ListNode(-1)\n",
    "    tail = dummy\n",
    "\n",
    "    while a and b:\n",
    "        if a.value <= b.value:\n",
    "            tail.bottom = a\n",
    "            a = a.bottom\n",
    "        else:\n",
    "            tail.bottom = b\n",
    "            b = b.bottom\n",
    "        tail = tail.bottom\n",
    "\n",
    "    if a:\n",
    "        tail.bottom = a\n",
    "    else:\n",
    "        tail.bottom = b\n",
    "\n",
    "    return dummy.bottom\n",
    "\n",
    "def flattenLinkedList(head):\n",
    "    if not head or not head.next:\n",
    "        return head\n",
    "\n",
    "    head.next = flattenLinkedList(head.next)\n",
    "\n",
    "    head = mergeSortedLists(head, head.next)\n",
    "\n",
    "    return head\n"
   ]
  },
  {
   "cell_type": "markdown",
   "id": "73acfc89",
   "metadata": {},
   "source": [
    "### 💡 **Answer 4: Clone a Special Linked List**"
   ]
  },
  {
   "cell_type": "code",
   "execution_count": 7,
   "id": "cb79338b",
   "metadata": {},
   "outputs": [],
   "source": [
    "class ListNode:\n",
    "    def __init__(self, value):\n",
    "        self.value = value\n",
    "        self.next = None\n",
    "        self.random = None\n",
    "\n",
    "def cloneLinkedList(head):\n",
    "    if not head:\n",
    "        return None\n",
    "\n",
    "    clone_map = {}\n",
    "    current = head\n",
    "\n",
    "    # Create a copy of each node and store it in the map\n",
    "    while current:\n",
    "        clone_map[current] = ListNode(current.value)\n",
    "        current = current.next\n",
    "\n",
    "    current = head\n",
    "\n",
    "    # Update the next and random pointers of the clone nodes using the map\n",
    "    while current:\n",
    "        clone_node = clone_map[current]\n",
    "        clone_node.next = clone_map.get(current.next)\n",
    "        clone_node.random = clone_map.get(current.random)\n",
    "        current = current.next\n",
    "\n",
    "    return clone_map[head]\n",
    "\n",
    "\n"
   ]
  },
  {
   "cell_type": "markdown",
   "id": "821fd35c",
   "metadata": {},
   "source": [
    "### 💡 **Answer 5: Reorder Linked List**"
   ]
  },
  {
   "cell_type": "code",
   "execution_count": 8,
   "id": "261b3510",
   "metadata": {},
   "outputs": [],
   "source": [
    "class ListNode:\n",
    "    def __init__(self, value):\n",
    "        self.value = value\n",
    "        self.next = None\n",
    "\n",
    "def reorderLinkedList(head):\n",
    "    if not head or not head.next:\n",
    "        return head\n",
    "\n",
    "    odd_head = head\n",
    "    even_head = head.next\n",
    "\n",
    "    odd_ptr = odd_head\n",
    "    even_ptr = even_head\n",
    "\n",
    "    while even_ptr and even_ptr.next:\n",
    "        odd_ptr.next = even_ptr.next\n",
    "        odd_ptr = odd_ptr.next\n",
    "\n",
    "        even_ptr.next = odd_ptr.next\n",
    "        even_ptr = even_ptr.next\n",
    "\n",
    "    odd_ptr.next = even_head\n",
    "    return odd_head\n",
    "\n"
   ]
  },
  {
   "cell_type": "markdown",
   "id": "101f14b5",
   "metadata": {},
   "source": [
    "### 💡 **Answer 6: Left Shift Linked List**"
   ]
  },
  {
   "cell_type": "code",
   "execution_count": 9,
   "id": "33da491a",
   "metadata": {},
   "outputs": [],
   "source": [
    "class ListNode:\n",
    "    def __init__(self, value):\n",
    "        self.value = value\n",
    "        self.next = None\n",
    "\n",
    "def leftShift(head, k):\n",
    "    if not head or not head.next or k == 0:\n",
    "        return head\n",
    "\n",
    "    # Find the length of the linked list\n",
    "    length = 1\n",
    "    tail = head\n",
    "    while tail.next:\n",
    "        tail = tail.next\n",
    "        length += 1\n",
    "\n",
    "    # Calculate the new head position\n",
    "    k %= length\n",
    "    if k == 0:\n",
    "        return head\n",
    "\n",
    "    # Find the new tail and new head\n",
    "    new_tail_position = length - k - 1\n",
    "    new_tail = head\n",
    "    for _ in range(new_tail_position):\n",
    "        new_tail = new_tail.next\n",
    "\n",
    "    new_head = new_tail.next\n",
    "    new_tail.next = None\n",
    "    tail.next = head\n",
    "\n",
    "    return new_head\n"
   ]
  },
  {
   "cell_type": "markdown",
   "id": "954781c5",
   "metadata": {},
   "source": [
    "### 💡 **Answer 7: Next Greater Node in Linked List**"
   ]
  },
  {
   "cell_type": "code",
   "execution_count": 10,
   "id": "f28aa978",
   "metadata": {},
   "outputs": [],
   "source": [
    "class ListNode:\n",
    "    def __init__(self, value):\n",
    "        self.value = value\n",
    "        self.next = None\n",
    "\n",
    "def nextGreaterNode(head):\n",
    "    result = []\n",
    "    stack = []\n",
    "\n",
    "    current = head\n",
    "    index = 0\n",
    "\n",
    "    while current:\n",
    "        while stack and current.value > stack[-1][0]:\n",
    "            prev_index = stack.pop()[1]\n",
    "            result[prev_index] = current.value\n",
    "\n",
    "        result.append(0)\n",
    "        stack.append((current.value, index))\n",
    "        current = current.next\n",
    "        index += 1\n",
    "\n",
    "    return result\n"
   ]
  },
  {
   "cell_type": "markdown",
   "id": "44759bc4",
   "metadata": {},
   "source": [
    "### 💡 **Answer 8: Delete Consecutive Sequences with Sum 0**"
   ]
  },
  {
   "cell_type": "code",
   "execution_count": 12,
   "id": "2e3cf310",
   "metadata": {},
   "outputs": [],
   "source": [
    "class ListNode:\n",
    "    def __init__(self, value):\n",
    "        self.value = value\n",
    "        self.next = None\n",
    "\n",
    "def deleteConsecutiveZeroSum(head):\n",
    "    dummy = ListNode(0)\n",
    "    dummy.next = head\n",
    "\n",
    "    current = dummy\n",
    "    sum_map = {0: current}\n",
    "\n",
    "    total_sum = 0\n",
    "\n",
    "    while current:\n",
    "        total_sum += current.value\n",
    "        if total_sum in sum_map:\n",
    "            prev = sum_map[total_sum]\n",
    "            prev.next = current.next\n",
    "            while prev != current:\n",
    "                total_sum += prev.value\n",
    "                del sum_map[total_sum]\n",
    "                prev = prev.next\n",
    "        else:\n",
    "            sum_map[total_sum] = current\n",
    "        current = current.next\n",
    "\n",
    "    return dummy.next\n"
   ]
  },
  {
   "cell_type": "code",
   "execution_count": null,
   "id": "dbccf03d",
   "metadata": {},
   "outputs": [],
   "source": []
  }
 ],
 "metadata": {
  "kernelspec": {
   "display_name": "Python 3 (ipykernel)",
   "language": "python",
   "name": "python3"
  },
  "language_info": {
   "codemirror_mode": {
    "name": "ipython",
    "version": 3
   },
   "file_extension": ".py",
   "mimetype": "text/x-python",
   "name": "python",
   "nbconvert_exporter": "python",
   "pygments_lexer": "ipython3",
   "version": "3.9.13"
  }
 },
 "nbformat": 4,
 "nbformat_minor": 5
}
