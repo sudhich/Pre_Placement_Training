{
 "cells": [
  {
   "cell_type": "code",
   "execution_count": null,
   "id": "ac165cd4",
   "metadata": {},
   "outputs": [],
   "source": []
  },
  {
   "cell_type": "markdown",
   "id": "51791227",
   "metadata": {},
   "source": [
    "### 💡 **Answer 1: Calculate Depth of Binary Tree from Preorder**"
   ]
  },
  {
   "cell_type": "code",
   "execution_count": 1,
   "id": "26364d9d",
   "metadata": {},
   "outputs": [],
   "source": [
    "def calculateDepth(preorder):\n",
    "    depth = 0\n",
    "    i = 0\n",
    "\n",
    "    def helper():\n",
    "        nonlocal i, depth\n",
    "\n",
    "        if i == len(preorder) or preorder[i] == 'l':\n",
    "            i += 1\n",
    "            return 0\n",
    "\n",
    "        i += 1\n",
    "        left_depth = helper()\n",
    "\n",
    "        i += 1\n",
    "        right_depth = helper()\n",
    "\n",
    "        depth = max(left_depth, right_depth) + 1\n",
    "\n",
    "        return depth\n",
    "\n",
    "    helper()\n",
    "    return depth"
   ]
  },
  {
   "cell_type": "markdown",
   "id": "95b961a7",
   "metadata": {},
   "source": [
    "### 💡 **Answer 2: Left View of Binary Tree**"
   ]
  },
  {
   "cell_type": "code",
   "execution_count": 2,
   "id": "c2d37ea5",
   "metadata": {},
   "outputs": [],
   "source": [
    "from queue import Queue\n",
    "\n",
    "class Node:\n",
    "    def __init__(self, key):\n",
    "        self.left = None\n",
    "        self.right = None\n",
    "        self.data = key\n",
    "\n",
    "def leftView(root):\n",
    "    if not root:\n",
    "        return\n",
    "\n",
    "    queue = Queue()\n",
    "    queue.put(root)\n",
    "\n",
    "    while not queue.empty():\n",
    "        count = queue.qsize()\n",
    "\n",
    "        for i in range(count):\n",
    "            node = queue.get()\n",
    "            if i == 0:\n",
    "                print(node.data, end=\" \")\n",
    "\n",
    "            if node.left:\n",
    "                queue.put(node.left)\n",
    "            if node.right:\n",
    "                queue.put(node.right)"
   ]
  },
  {
   "cell_type": "markdown",
   "id": "cc282589",
   "metadata": {},
   "source": [
    "### 💡 **Answer 3: Right View of Binary Tree**"
   ]
  },
  {
   "cell_type": "code",
   "execution_count": 3,
   "id": "53c8e4cb",
   "metadata": {},
   "outputs": [],
   "source": [
    "from queue import Queue\n",
    "\n",
    "class Node:\n",
    "    def __init__(self, key):\n",
    "        self.left = None\n",
    "        self.right = None\n",
    "        self.data = key\n",
    "\n",
    "def rightView(root):\n",
    "    if not root:\n",
    "        return\n",
    "\n",
    "    queue = Queue()\n",
    "    queue.put(root)\n",
    "\n",
    "    while not queue.empty():\n",
    "        count = queue.qsize()\n",
    "\n",
    "        for i in range(count):\n",
    "            node = queue.get()\n",
    "            if i == count - 1:\n",
    "                print(node.data, end=\" \")\n",
    "\n",
    "            if node.left:\n",
    "                queue.put(node.left)\n",
    "            if node.right:\n",
    "                queue.put(node.right)"
   ]
  },
  {
   "cell_type": "code",
   "execution_count": null,
   "id": "e825dac0",
   "metadata": {},
   "outputs": [],
   "source": [
    "from collections import defaultdict\n",
    "\n",
    "class Node:\n",
    "    def __init__(self, key):\n",
    "        self.left = None\n",
    "        self.right = None\n",
    "        self.data = key\n",
    "\n",
    "def bottomView(root):\n",
    "    if not root:\n",
    "        return\n",
    "\n",
    "    hd_dict = defaultdict(int)\n",
    "    queue = []\n",
    "    queue.append((root, 0))\n",
    "\n",
    "    while queue:\n",
    "        node, hd = queue.pop(0)\n",
    "        hd_dict[hd] = node.data\n",
    "        if node.left:\n",
    "            queue.append((node.left, hd - 1))\n",
    "        if node.right:\n",
    "            queue.append((node.right, hd + 1))\n",
    "\n",
    "    for hd in sorted(hd_dict.keys()):\n",
    "        print(hd_dict[hd], end=\" \")"
   ]
  }
 ],
 "metadata": {
  "kernelspec": {
   "display_name": "Python 3 (ipykernel)",
   "language": "python",
   "name": "python3"
  },
  "language_info": {
   "codemirror_mode": {
    "name": "ipython",
    "version": 3
   },
   "file_extension": ".py",
   "mimetype": "text/x-python",
   "name": "python",
   "nbconvert_exporter": "python",
   "pygments_lexer": "ipython3",
   "version": "3.9.13"
  }
 },
 "nbformat": 4,
 "nbformat_minor": 5
}
