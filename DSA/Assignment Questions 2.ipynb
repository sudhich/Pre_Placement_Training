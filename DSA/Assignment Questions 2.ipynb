{
 "cells": [
  {
   "cell_type": "markdown",
   "id": "997821a5",
   "metadata": {},
   "source": [
    "### Ans(1)"
   ]
  },
  {
   "cell_type": "code",
   "execution_count": 25,
   "id": "5202ba04",
   "metadata": {},
   "outputs": [
    {
     "name": "stdout",
     "output_type": "stream",
     "text": [
      "4\n"
     ]
    }
   ],
   "source": [
    "def arrayPairSum(nums: list[int]) -> int:\n",
    "    nums.sort()\n",
    "    r=0\n",
    "    for i in range(0,len(nums),2):\n",
    "        r+=min(nums[i],nums[i+1])\n",
    "    return(r)\n",
    "nums = [1,4,3,2]\n",
    "print(arrayPairSum(nums))"
   ]
  },
  {
   "cell_type": "markdown",
   "id": "29466a71",
   "metadata": {},
   "source": [
    "### Ans(2)"
   ]
  },
  {
   "cell_type": "code",
   "execution_count": 27,
   "id": "20868d9f",
   "metadata": {},
   "outputs": [
    {
     "name": "stdout",
     "output_type": "stream",
     "text": [
      "3\n"
     ]
    }
   ],
   "source": [
    "def distributeCandies(candyType: list[int]) -> int:\n",
    "        # Count the number of unique candies by creating a set with\n",
    "        # candyType, and then taking its length.\n",
    "        unique_candies = len(set(candyType))\n",
    "        # And find the answer in the same way as before.\n",
    "        return min(unique_candies, len(candyType) // 2)\n",
    "\n",
    "candyType = [1,1,2,2,3,3]\n",
    "print(distributeCandies(candyType))"
   ]
  },
  {
   "cell_type": "markdown",
   "id": "1c0c2303",
   "metadata": {},
   "source": [
    "### Ans(3)"
   ]
  },
  {
   "cell_type": "code",
   "execution_count": 2,
   "id": "034a66d7",
   "metadata": {},
   "outputs": [
    {
     "name": "stdout",
     "output_type": "stream",
     "text": [
      "5\n"
     ]
    }
   ],
   "source": [
    "from collections import defaultdict\n",
    "\n",
    "def findLHS(nums: list[int]) -> int:\n",
    "    map = defaultdict(int)\n",
    "    res = 0\n",
    "\n",
    "    for num in nums:\n",
    "        map[num] += 1\n",
    "\n",
    "    for key in map.keys():\n",
    "        if key + 1 in map:\n",
    "            res = max(res, map[key] + map[key + 1])\n",
    "\n",
    "    return res\n",
    "if __name__ == \"__main__\":\n",
    "    nums = [1,3,2,2,5,2,3,7]\n",
    "    print(findLHS(nums))"
   ]
  },
  {
   "cell_type": "markdown",
   "id": "e52c74b1",
   "metadata": {},
   "source": [
    "### Ans(4)"
   ]
  },
  {
   "cell_type": "code",
   "execution_count": 3,
   "id": "df052180",
   "metadata": {},
   "outputs": [
    {
     "name": "stdout",
     "output_type": "stream",
     "text": [
      "True\n"
     ]
    }
   ],
   "source": [
    "\n",
    "def canPlaceFlowers(flowerbed: list[int], n: int) -> bool:\n",
    "    count = 0\n",
    "    for i in range(len(flowerbed)):\n",
    "        # Check if the current plot is empty.\n",
    "        if flowerbed[i] == 0:\n",
    "            # Check if the left and right plots are empty.\n",
    "            empty_left_plot = (i == 0) or (flowerbed[i - 1] == 0)\n",
    "            empty_right_lot = (i == len(flowerbed) - 1) or (flowerbed[i + 1] == 0)\n",
    "\n",
    "            # If both plots are empty, we can plant a flower here.\n",
    "            if empty_left_plot and empty_right_lot:\n",
    "                flowerbed[i] = 1\n",
    "                count += 1\n",
    "                if count >= n:\n",
    "                    return True\n",
    "\n",
    "    return count >= n\n",
    "\n",
    "if __name__ == \"__main__\":\n",
    "    flowerbed = [1,0,0,0,1]\n",
    "    n = 1\n",
    "    print(canPlaceFlowers(flowerbed, n))"
   ]
  },
  {
   "cell_type": "markdown",
   "id": "55a553a7",
   "metadata": {},
   "source": [
    "### Ans(5)"
   ]
  },
  {
   "cell_type": "code",
   "execution_count": 5,
   "id": "7d91ad5f",
   "metadata": {},
   "outputs": [
    {
     "name": "stdout",
     "output_type": "stream",
     "text": [
      "6\n"
     ]
    }
   ],
   "source": [
    "\n",
    "def maximumProduct(nums: list[int]) -> int:\n",
    "    min1 = float('inf')\n",
    "    min2 = float('inf')\n",
    "    max1 = float('-inf')\n",
    "    max2 = float('-inf')\n",
    "    max3 = float('-inf')\n",
    "\n",
    "    for n in nums:\n",
    "        if n <= min1:\n",
    "            min2 = min1\n",
    "            min1 = n\n",
    "        elif n <= min2:\n",
    "            min2 = n\n",
    "\n",
    "        if n >= max1:\n",
    "            max3 = max2\n",
    "            max2 = max1\n",
    "            max1 = n\n",
    "        elif n >= max2:\n",
    "            max3 = max2\n",
    "            max2 = n\n",
    "        elif n >= max3:\n",
    "            max3 = n\n",
    "\n",
    "    return max(min1 * min2 * max1, max1 * max2 * max3)\n",
    "\n",
    "if __name__ == \"__main__\":\n",
    "    nums = [1,2,3]\n",
    "    print(maximumProduct(nums))"
   ]
  },
  {
   "cell_type": "markdown",
   "id": "b31637d2",
   "metadata": {},
   "source": [
    "### Ans(6)"
   ]
  },
  {
   "cell_type": "code",
   "execution_count": 6,
   "id": "8703fb77",
   "metadata": {},
   "outputs": [
    {
     "name": "stdout",
     "output_type": "stream",
     "text": [
      "4\n"
     ]
    }
   ],
   "source": [
    "def search(nums: list[int], target: int) -> int:\n",
    "        # Set the left and right boundaries\n",
    "        left = 0\n",
    "        right = len(nums)\n",
    "        \n",
    "        while left < right:\n",
    "            mid = (left + right) // 2\n",
    "            if nums[mid] >= target:\n",
    "                right = mid\n",
    "            else:\n",
    "                left = mid + 1\n",
    "        \n",
    "        if left < len(nums) and nums[left] == target:\n",
    "            return left\n",
    "        else:\n",
    "            return -1\n",
    "\n",
    "if __name__ == \"__main__\":\n",
    "    nums = [-1,0,3,5,9,12]\n",
    "    target = 9\n",
    "    print(search(nums, target))"
   ]
  },
  {
   "cell_type": "markdown",
   "id": "699473af",
   "metadata": {},
   "source": [
    "### Ans(7)"
   ]
  },
  {
   "cell_type": "code",
   "execution_count": 8,
   "id": "9369016f",
   "metadata": {},
   "outputs": [
    {
     "name": "stdout",
     "output_type": "stream",
     "text": [
      "True\n"
     ]
    }
   ],
   "source": [
    "def isMonotonic(nums: list[int]) -> bool:\n",
    "        is_increasing = True\n",
    "        is_decreasing = True\n",
    "\n",
    "        for i in range(len(nums) - 1):\n",
    "            if nums[i] > nums[i + 1]:\n",
    "                is_increasing = False\n",
    "            if nums[i] < nums[i + 1]:\n",
    "                is_decreasing = False\n",
    "\n",
    "        return is_increasing or is_decreasing\n",
    "\n",
    "if __name__ == \"__main__\":\n",
    "    nums = [1,2,2,3]\n",
    "    print(isMonotonic(nums))"
   ]
  },
  {
   "cell_type": "markdown",
   "id": "f4df00bf",
   "metadata": {},
   "source": [
    "### Ans(8)"
   ]
  },
  {
   "cell_type": "code",
   "execution_count": 9,
   "id": "2e059507",
   "metadata": {},
   "outputs": [
    {
     "name": "stdout",
     "output_type": "stream",
     "text": [
      "0\n"
     ]
    }
   ],
   "source": [
    "def smallestRangeI(nums: list[int], k: int) -> int:\n",
    "        x=max(nums)\n",
    "        y=min(nums)\n",
    "        return max(0,(x-k)-(y+k))\n",
    "\n",
    "if __name__ == \"__main__\":\n",
    "    nums = [1]\n",
    "    k = 0\n",
    "    print(smallestRangeI(nums, k))"
   ]
  },
  {
   "cell_type": "code",
   "execution_count": null,
   "id": "f0c8365e",
   "metadata": {},
   "outputs": [],
   "source": []
  }
 ],
 "metadata": {
  "kernelspec": {
   "display_name": "Python 3 (ipykernel)",
   "language": "python",
   "name": "python3"
  },
  "language_info": {
   "codemirror_mode": {
    "name": "ipython",
    "version": 3
   },
   "file_extension": ".py",
   "mimetype": "text/x-python",
   "name": "python",
   "nbconvert_exporter": "python",
   "pygments_lexer": "ipython3",
   "version": "3.9.13"
  }
 },
 "nbformat": 4,
 "nbformat_minor": 5
}
