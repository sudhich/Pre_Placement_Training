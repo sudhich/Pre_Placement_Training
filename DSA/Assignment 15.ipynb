{
 "cells": [
  {
   "cell_type": "markdown",
   "id": "0d3ac5d7",
   "metadata": {},
   "source": [
    "## Assignment 15"
   ]
  },
  {
   "cell_type": "markdown",
   "id": "8c025ec1",
   "metadata": {},
   "source": [
    "### 💡 **Answer 1: Next Greater Element**"
   ]
  },
  {
   "cell_type": "code",
   "execution_count": 1,
   "id": "d993b0f3",
   "metadata": {},
   "outputs": [],
   "source": [
    "def nextGreaterElement(arr):\n",
    "    n = len(arr)\n",
    "    result = [-1] * n\n",
    "    stack = []\n",
    "\n",
    "    for i in range(n):\n",
    "        while stack and arr[i] > arr[stack[-1]]:\n",
    "            index = stack.pop()\n",
    "            result[index] = arr[i]\n",
    "        stack.append(i)\n",
    "\n",
    "    return result"
   ]
  },
  {
   "cell_type": "markdown",
   "id": "ea9c8d36",
   "metadata": {},
   "source": [
    "### 💡 **Answer 2: Nearest Smaller Element on Left**"
   ]
  },
  {
   "cell_type": "code",
   "execution_count": 2,
   "id": "2d2da25b",
   "metadata": {},
   "outputs": [],
   "source": [
    "def nearestSmallerOnLeft(a):\n",
    "    n = len(a)\n",
    "    result = [-1] * n\n",
    "    stack = []\n",
    "\n",
    "    for i in range(n):\n",
    "        while stack and a[i] <= a[stack[-1]]:\n",
    "            stack.pop()\n",
    "        if stack:\n",
    "            result[i] = a[stack[-1]]\n",
    "        stack.append(i)\n",
    "\n",
    "    return result\n",
    "\n"
   ]
  },
  {
   "cell_type": "markdown",
   "id": "6f722c91",
   "metadata": {},
   "source": [
    "### 💡 **Answer 3: Implement Stack using Queues**"
   ]
  },
  {
   "cell_type": "code",
   "execution_count": 4,
   "id": "d2132df4",
   "metadata": {},
   "outputs": [],
   "source": [
    "from queue import Queue\n",
    "\n",
    "class StackUsingQueues:\n",
    "    def __init__(self):\n",
    "        self.q1 = Queue()\n",
    "        self.q2 = Queue()\n",
    "\n",
    "    def push(self, val):\n",
    "        self.q1.put(val)\n",
    "        while not self.q2.empty():\n",
    "            self.q1.put(self.q2.get())\n",
    "        self.q1, self.q2 = self.q2, self.q1\n",
    "\n",
    "    def pop(self):\n",
    "        if not self.q2.empty():\n",
    "            return self.q2.get()\n",
    "\n",
    "    def top(self):\n",
    "        if not self.q2.empty():\n",
    "            return self.q2.queue[0]\n",
    "\n",
    "    def empty(self):\n",
    "        return self.q2.empty()\n"
   ]
  },
  {
   "cell_type": "markdown",
   "id": "faa54e41",
   "metadata": {},
   "source": [
    "### 💡 **Answer 4: Reverse Stack using Recursion**"
   ]
  },
  {
   "cell_type": "code",
   "execution_count": 6,
   "id": "3d221624",
   "metadata": {},
   "outputs": [],
   "source": [
    "def insertAtBottom(stack, item):\n",
    "    if not stack:\n",
    "        stack.append(item)\n",
    "    else:\n",
    "        temp = stack.pop()\n",
    "        insertAtBottom(stack, item)\n",
    "        stack.append(temp)\n",
    "\n",
    "def reverseStack(stack):\n",
    "    if not stack:\n",
    "        return\n",
    "    temp = stack.pop()\n",
    "    reverseStack(stack)\n",
    "    insertAtBottom(stack, temp)"
   ]
  },
  {
   "cell_type": "markdown",
   "id": "6bdea533",
   "metadata": {},
   "source": [
    "### 💡 **Answer 5: Reverse String using Stack**"
   ]
  },
  {
   "cell_type": "code",
   "execution_count": 7,
   "id": "a452e587",
   "metadata": {},
   "outputs": [],
   "source": [
    "def reverseString(s):\n",
    "    stack = []\n",
    "    for char in s:\n",
    "        stack.append(char)\n",
    "\n",
    "    reversed_string = \"\"\n",
    "    while stack:\n",
    "        reversed_string += stack.pop()\n",
    "\n",
    "    return reversed_string"
   ]
  },
  {
   "cell_type": "markdown",
   "id": "c4e5083c",
   "metadata": {},
   "source": [
    "### 💡 **Answer 6: Evaluate Postfix Expression**"
   ]
  },
  {
   "cell_type": "code",
   "execution_count": 8,
   "id": "91982aa2",
   "metadata": {},
   "outputs": [],
   "source": [
    "def evaluatePostfixExpression(S):\n",
    "    stack = []\n",
    "\n",
    "    for char in S:\n",
    "        if char.isdigit():\n",
    "            stack.append(int(char))\n",
    "        else:\n",
    "            b = stack.pop()\n",
    "            a = stack.pop()\n",
    "            if char == '+':\n",
    "                stack.append(a + b)\n",
    "            elif char == '-':\n",
    "                stack.append(a - b)\n",
    "            elif char == '*':\n",
    "                stack.append(a * b)\n",
    "            elif char == '/':\n",
    "                stack.append(a // b)\n",
    "\n",
    "    return stack[-1]"
   ]
  },
  {
   "cell_type": "markdown",
   "id": "156cce15",
   "metadata": {},
   "source": [
    "### 💡 **Answer 7: Min Stack**"
   ]
  },
  {
   "cell_type": "code",
   "execution_count": 9,
   "id": "660833b2",
   "metadata": {},
   "outputs": [],
   "source": [
    "class MinStack:\n",
    "    def __init__(self):\n",
    "        self.stack = []\n",
    "        self.min_stack = []\n",
    "\n",
    "    def push(self, val):\n",
    "        self.stack.append(val)\n",
    "        if not self.min_stack or val <= self.min_stack[-1]:\n",
    "            self.min_stack.append(val)\n",
    "\n",
    "    def pop(self):\n",
    "        if self.stack:\n",
    "            val = self.stack.pop()\n",
    "            if val == self.min_stack[-1]:\n",
    "                self.min_stack.pop()\n",
    "\n",
    "    def top(self):\n",
    "        if self.stack:\n",
    "            return self.stack[-1]\n",
    "\n",
    "    def getMin(self):\n",
    "        if self.min_stack:\n",
    "            return self.min_stack[-1]"
   ]
  },
  {
   "cell_type": "markdown",
   "id": "63ab77ef",
   "metadata": {},
   "source": [
    "### 💡 **Answer 8: Trapping Rain Water**"
   ]
  },
  {
   "cell_type": "code",
   "execution_count": 10,
   "id": "ab99cf34",
   "metadata": {},
   "outputs": [],
   "source": [
    "def trap(height):\n",
    "    n = len(height)\n",
    "    left_max = [0] * n\n",
    "    right_max = [0] * n\n",
    "    water = 0\n",
    "\n",
    "    # Calculate the maximum height on the left of each position\n",
    "    left_max[0] = height[0]\n",
    "    for i in range(1, n):\n",
    "        left_max[i] = max(left_max[i - 1], height[i])\n",
    "\n",
    "    # Calculate the maximum height on the right of each position\n",
    "    right_max[n - 1] = height[n - 1]\n",
    "    for i in range(n - 2, -1, -1):\n",
    "        right_max[i] = max(right_max[i + 1], height[i])\n",
    "\n",
    "    # Calculate the trapped water at each position\n",
    "    for i in range(n):\n",
    "        water += min(left_max[i], right_max[i]) - height[i]\n",
    "\n",
    "    return water"
   ]
  },
  {
   "cell_type": "code",
   "execution_count": null,
   "id": "ee068aca",
   "metadata": {},
   "outputs": [],
   "source": []
  }
 ],
 "metadata": {
  "kernelspec": {
   "display_name": "Python 3 (ipykernel)",
   "language": "python",
   "name": "python3"
  },
  "language_info": {
   "codemirror_mode": {
    "name": "ipython",
    "version": 3
   },
   "file_extension": ".py",
   "mimetype": "text/x-python",
   "name": "python",
   "nbconvert_exporter": "python",
   "pygments_lexer": "ipython3",
   "version": "3.9.13"
  }
 },
 "nbformat": 4,
 "nbformat_minor": 5
}
