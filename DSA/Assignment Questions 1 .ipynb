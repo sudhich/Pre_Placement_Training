{
 "cells": [
  {
   "cell_type": "markdown",
   "id": "997821a5",
   "metadata": {},
   "source": [
    "### Ans(1)"
   ]
  },
  {
   "cell_type": "code",
   "execution_count": 3,
   "id": "5202ba04",
   "metadata": {},
   "outputs": [
    {
     "name": "stdout",
     "output_type": "stream",
     "text": [
      "[1, 3]\n",
      "[1, 2]\n"
     ]
    }
   ],
   "source": [
    "def twoSum(nums, target):\n",
    "    for i in range(len(nums)):\n",
    "        for j in range(i + 1, len(nums)):\n",
    "            if nums[i] + nums[j] == target:\n",
    "                return [i, j]\n",
    "\n",
    "print(twoSum([15, 7, 11, 2], 9))\n",
    "print(twoSum([3, 2, 4], 6))\n"
   ]
  },
  {
   "cell_type": "markdown",
   "id": "29466a71",
   "metadata": {},
   "source": [
    "### Ans(2)"
   ]
  },
  {
   "cell_type": "code",
   "execution_count": 24,
   "id": "20868d9f",
   "metadata": {},
   "outputs": [
    {
     "name": "stdout",
     "output_type": "stream",
     "text": [
      "5\n"
     ]
    }
   ],
   "source": [
    "def removeElement(nums: list[int], val: int) -> int:\n",
    "    i = 0\n",
    "    n = len(nums)\n",
    "    while i < n:\n",
    "        if nums[i] == val:\n",
    "            nums[i] = nums[n - 1]\n",
    "            # reduce array size by one\n",
    "            n -= 1\n",
    "        else:\n",
    "            i += 1        \n",
    "    return n\n",
    "\n",
    "nums =[0,1,2,2,3,0,4,2]\n",
    "val =2\n",
    "print(removeElement(nums, val))"
   ]
  },
  {
   "cell_type": "markdown",
   "id": "1c0c2303",
   "metadata": {},
   "source": [
    "### Ans(3)"
   ]
  },
  {
   "cell_type": "code",
   "execution_count": 32,
   "id": "034a66d7",
   "metadata": {},
   "outputs": [
    {
     "name": "stdout",
     "output_type": "stream",
     "text": [
      "2\n"
     ]
    }
   ],
   "source": [
    "def searchInsert(nums: list[int], target: int) -> int:\n",
    "    l = 0\n",
    "    r = len(nums) - 1\n",
    "    while l <= r:\n",
    "        mid = (l + r) // 2\n",
    "        if nums[mid] < target:\n",
    "            l = mid + 1\n",
    "        elif nums[mid] > target:\n",
    "            r = mid - 1\n",
    "        else:\n",
    "            return mid\n",
    "    return l\n",
    "if __name__ == \"__main__\":\n",
    "    nums = [1,3,5,6]\n",
    "    target = 5\n",
    "    print(searchInsert(nums, target))\n",
    "    #nums = [1,3,5,6]\n",
    "    #target = 2\n",
    "    #print(searchInsert(nums, target))"
   ]
  },
  {
   "cell_type": "markdown",
   "id": "e52c74b1",
   "metadata": {},
   "source": [
    "### Ans(4)"
   ]
  },
  {
   "cell_type": "code",
   "execution_count": 38,
   "id": "df052180",
   "metadata": {},
   "outputs": [
    {
     "name": "stdout",
     "output_type": "stream",
     "text": [
      "[1, 2, 4]\n"
     ]
    }
   ],
   "source": [
    "def plusOne(digits: list[int]) -> list[int]:\n",
    "    for i in range(len(digits)-1, -1, -1):\n",
    "        if digits[i] < 9:\n",
    "            digits[i] += 1\n",
    "            return digits\n",
    "        digits[i] = 0\n",
    "\n",
    "    digits = [0] * (len(digits) + 1)\n",
    "    digits[0] = 1\n",
    "    return digits\n",
    "if __name__ == \"__main__\":\n",
    "    digits = [1,2,3]\n",
    "    print(plusOne(digits))"
   ]
  },
  {
   "cell_type": "markdown",
   "id": "eec2f3d8",
   "metadata": {},
   "source": [
    "### Ans(5)"
   ]
  },
  {
   "cell_type": "code",
   "execution_count": 4,
   "id": "f2344d52",
   "metadata": {},
   "outputs": [],
   "source": [
    "\n",
    "def merge(nums1: list[int], m: int, nums2: list[int], n: int) -> None:\n",
    "    \"\"\"\n",
    "    Do not return anything, modify nums1 in-place instead.\n",
    "    \"\"\"\n",
    "    i = m - 1\n",
    "    j = n - 1\n",
    "    k = m + n - 1\n",
    "\n",
    "    while j >= 0:\n",
    "        if i >= 0 and nums1[i] > nums2[j]:\n",
    "            nums1[k] = nums1[i]\n",
    "            i -= 1\n",
    "        else:\n",
    "            nums1[k] = nums2[j]\n",
    "            j -= 1\n",
    "        k -= 1\n",
    "        \n",
    "nums1 = [1,2,3,0,0,0]\n",
    "m = 3\n",
    "nums2 = [2,5,6]\n",
    "n = 3\n",
    "merge(nums1, m, nums2, n)"
   ]
  },
  {
   "cell_type": "markdown",
   "id": "b99e2d7e",
   "metadata": {},
   "source": [
    "### Ans(6)"
   ]
  },
  {
   "cell_type": "code",
   "execution_count": 7,
   "id": "c63c4cb0",
   "metadata": {},
   "outputs": [
    {
     "name": "stdout",
     "output_type": "stream",
     "text": [
      "True\n"
     ]
    }
   ],
   "source": [
    "def containsDuplicate(nums: list[int]) -> bool:\n",
    "        hset = set()\n",
    "        for idx in nums:\n",
    "            if idx in hset:\n",
    "                return True\n",
    "            else:\n",
    "                hset.add(idx)\n",
    "\n",
    "nums = [1,2,3,1]                \n",
    "print(containsDuplicate(nums))"
   ]
  },
  {
   "cell_type": "markdown",
   "id": "6a0b3bba",
   "metadata": {},
   "source": [
    "### Ans(7)"
   ]
  },
  {
   "cell_type": "code",
   "execution_count": 16,
   "id": "642c0efe",
   "metadata": {},
   "outputs": [
    {
     "name": "stdout",
     "output_type": "stream",
     "text": [
      "[1, 3, 12, 0, 0]\n"
     ]
    }
   ],
   "source": [
    "def moveZeroes(nums: list[int]) -> int:\n",
    "    append_times=nums.count(0)\n",
    "    for i in range(append_times):\n",
    "        nums.remove(0) #  Delete the front zero\n",
    "        nums.append(0) # append it at the end of nums, the times of the addition and substraction shall be equal\n",
    "    return nums\n",
    "\n",
    "nums = [0,1,0,3,12]\n",
    "print(moveZeroes(nums))"
   ]
  },
  {
   "cell_type": "markdown",
   "id": "ee9b8d72",
   "metadata": {},
   "source": [
    "### Ans(8)"
   ]
  },
  {
   "cell_type": "code",
   "execution_count": 23,
   "id": "57d47579",
   "metadata": {},
   "outputs": [
    {
     "name": "stdout",
     "output_type": "stream",
     "text": [
      "[2, 3]\n"
     ]
    }
   ],
   "source": [
    "def findErrorNums(nums: list[int]) -> list[int]:\n",
    "        N, dupe = len(nums), 0\n",
    "        seen, sumN = [0] * (N+1), N * (N+1) // 2\n",
    "        for num in nums:\n",
    "            sumN -= num\n",
    "            if seen[num]: dupe = num\n",
    "            seen[num] += 1\n",
    "        return [dupe, sumN + dupe]\n",
    "\n",
    "nums = [1,2,2,4]\n",
    "print(findErrorNums(nums))"
   ]
  },
  {
   "cell_type": "code",
   "execution_count": null,
   "id": "e2691ac3",
   "metadata": {},
   "outputs": [],
   "source": []
  }
 ],
 "metadata": {
  "kernelspec": {
   "display_name": "Python 3 (ipykernel)",
   "language": "python",
   "name": "python3"
  },
  "language_info": {
   "codemirror_mode": {
    "name": "ipython",
    "version": 3
   },
   "file_extension": ".py",
   "mimetype": "text/x-python",
   "name": "python",
   "nbconvert_exporter": "python",
   "pygments_lexer": "ipython3",
   "version": "3.9.13"
  }
 },
 "nbformat": 4,
 "nbformat_minor": 5
}
