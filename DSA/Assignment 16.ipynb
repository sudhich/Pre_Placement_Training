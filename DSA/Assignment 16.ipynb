{
 "cells": [
  {
   "cell_type": "markdown",
   "id": "068819dd",
   "metadata": {},
   "source": [
    "## Assignment 16"
   ]
  },
  {
   "cell_type": "markdown",
   "id": "070f513d",
   "metadata": {},
   "source": [
    "### 💡 **Answer 1: Nearest Greater Frequency to Right**"
   ]
  },
  {
   "cell_type": "code",
   "execution_count": 1,
   "id": "48ebc208",
   "metadata": {},
   "outputs": [],
   "source": [
    "def nearestGreaterFrequencyToRight(arr):\n",
    "    n = len(arr)\n",
    "    freq = {}\n",
    "    next_greater_freq = {}\n",
    "    stack = []\n",
    "\n",
    "    for i in range(n - 1, -1, -1):\n",
    "        while stack and freq[arr[i]] >= freq[stack[-1]]:\n",
    "            stack.pop()\n",
    "        next_greater_freq[arr[i]] = stack[-1] if stack else -1\n",
    "        stack.append(arr[i])\n",
    "        freq[arr[i]] = freq.get(arr[i], 0) + 1\n",
    "\n",
    "    return [next_greater_freq.get(val, -1) for val in arr]"
   ]
  },
  {
   "cell_type": "markdown",
   "id": "ff7716ab",
   "metadata": {},
   "source": [
    "### 💡 **Answer 2: Sort Stack using Temporary Stack**"
   ]
  },
  {
   "cell_type": "code",
   "execution_count": 2,
   "id": "305df383",
   "metadata": {},
   "outputs": [],
   "source": [
    "def sortStack(stack):\n",
    "    temp_stack = []\n",
    "\n",
    "    while stack:\n",
    "        temp = stack.pop()\n",
    "        while temp_stack and temp < temp_stack[-1]:\n",
    "            stack.append(temp_stack.pop())\n",
    "        temp_stack.append(temp)\n",
    "\n",
    "    return temp_stack"
   ]
  },
  {
   "cell_type": "markdown",
   "id": "0c69e608",
   "metadata": {},
   "source": [
    "### 💡 **Answer 3: Delete Middle Element of Stack**"
   ]
  },
  {
   "cell_type": "code",
   "execution_count": 3,
   "id": "aaf74502",
   "metadata": {},
   "outputs": [],
   "source": [
    "def deleteMiddleElement(stack, k):\n",
    "    if k == 1:\n",
    "        stack.pop()\n",
    "        return\n",
    "\n",
    "    temp = stack.pop()\n",
    "    deleteMiddleElement(stack, k - 1)\n",
    "    stack.append(temp)\n"
   ]
  },
  {
   "cell_type": "markdown",
   "id": "0268fa55",
   "metadata": {},
   "source": [
    "### 💡 **Answer 4: Arrange Queue Elements in Increasing Order using Stack**\n"
   ]
  },
  {
   "cell_type": "code",
   "execution_count": 4,
   "id": "ea1edfdd",
   "metadata": {},
   "outputs": [],
   "source": [
    "def canArrangeInIncreasingOrder(queue):\n",
    "    n = len(queue)\n",
    "    stack = []\n",
    "    expected_next = 1\n",
    "\n",
    "    for i in range(n):\n",
    "        if queue[i] == expected_next:\n",
    "            expected_next += 1\n",
    "        elif stack and stack[-1] == expected_next:\n",
    "            stack.pop()\n",
    "            expected_next += 1\n",
    "        else:\n",
    "            stack.append(queue[i])\n",
    "\n",
    "    while stack and stack[-1] == expected_next:\n",
    "        stack.pop()\n",
    "        expected_next += 1\n",
    "\n",
    "    return len(stack) == 0"
   ]
  },
  {
   "cell_type": "markdown",
   "id": "75844dc5",
   "metadata": {},
   "source": [
    "### 💡 **Answer 5: Reverse Number using Stack**"
   ]
  },
  {
   "cell_type": "code",
   "execution_count": 5,
   "id": "549a20cc",
   "metadata": {},
   "outputs": [],
   "source": [
    "def reverseNumber(num):\n",
    "    num_str = str(num)\n",
    "    stack = []\n",
    "    for char in num_str:\n",
    "        stack.append(char)\n",
    "\n",
    "    reversed_num_str = \"\"\n",
    "    while stack:\n",
    "        reversed_num_str += stack.pop()\n",
    "\n",
    "    return int(reversed_num_str)"
   ]
  },
  {
   "cell_type": "markdown",
   "id": "347eab2f",
   "metadata": {},
   "source": [
    "### 💡 **Answer 6: Reverse K Elements of Queue using Stack**"
   ]
  },
  {
   "cell_type": "code",
   "execution_count": 6,
   "id": "de480969",
   "metadata": {},
   "outputs": [],
   "source": [
    "from queue import Queue\n",
    "\n",
    "def reverseKElementsOfQueue(queue, k):\n",
    "    stack = []\n",
    "    for i in range(k):\n",
    "        stack.append(queue.get())\n",
    "\n",
    "    while stack:\n",
    "        queue.put(stack.pop())\n",
    "\n",
    "    for i in range(queue.qsize() - k):\n",
    "        queue.put(queue.get())"
   ]
  },
  {
   "cell_type": "markdown",
   "id": "d6d7dfa7",
   "metadata": {},
   "source": [
    "### 💡 **Answer 7: Pairwise Destruction of Words**"
   ]
  },
  {
   "cell_type": "code",
   "execution_count": 7,
   "id": "4be204fd",
   "metadata": {},
   "outputs": [],
   "source": [
    "def pairwiseDestructionOfWords(sequence):\n",
    "    stack = []\n",
    "    for word in sequence:\n",
    "        if stack and stack[-1] == word:\n",
    "            stack.pop()\n",
    "        else:\n",
    "            stack.append(word)\n",
    "    return len(stack)\n"
   ]
  },
  {
   "cell_type": "markdown",
   "id": "02db4fe2",
   "metadata": {},
   "source": [
    "### 💡 **Answer 8: Maximum Absolute Difference between Nearest Left and Right Smaller Element**"
   ]
  },
  {
   "cell_type": "code",
   "execution_count": 8,
   "id": "fcdaab9c",
   "metadata": {},
   "outputs": [],
   "source": [
    "def maxAbsDiffNearestLeftAndRightSmaller(arr):\n",
    "    n = len(arr)\n",
    "    left_smaller = [-1] * n\n",
    "    right_smaller = [-1] * n\n",
    "    stack = []\n",
    "\n",
    "    for i in range(n):\n",
    "        while stack and arr[i] <= arr[stack[-1]]:\n",
    "            stack.pop()\n",
    "        if stack:\n",
    "            left_smaller[i] = arr[stack[-1]]\n",
    "        stack.append(i)\n",
    "\n",
    "    stack.clear()\n",
    "\n",
    "    for i in range(n - 1, -1, -1):\n",
    "        while stack and arr[i] <= arr[stack[-1]]:\n",
    "            stack.pop()\n",
    "        if stack:\n",
    "            right_smaller[i] = arr[stack[-1]]\n",
    "        stack.append(i)\n",
    "\n",
    "    max_abs_diff = 0\n",
    "    for i in range(n):\n",
    "\n",
    "\n",
    "        max_abs_diff = max(max_abs_diff, abs(left_smaller[i] - right_smaller[i]))\n",
    "\n",
    "    return max_abs_diff"
   ]
  },
  {
   "cell_type": "code",
   "execution_count": null,
   "id": "557cb824",
   "metadata": {},
   "outputs": [],
   "source": []
  }
 ],
 "metadata": {
  "kernelspec": {
   "display_name": "Python 3 (ipykernel)",
   "language": "python",
   "name": "python3"
  },
  "language_info": {
   "codemirror_mode": {
    "name": "ipython",
    "version": 3
   },
   "file_extension": ".py",
   "mimetype": "text/x-python",
   "name": "python",
   "nbconvert_exporter": "python",
   "pygments_lexer": "ipython3",
   "version": "3.9.13"
  }
 },
 "nbformat": 4,
 "nbformat_minor": 5
}
