{
 "cells": [
  {
   "cell_type": "markdown",
   "id": "ef8e2b32",
   "metadata": {},
   "source": [
    "## Assignment 12"
   ]
  },
  {
   "cell_type": "markdown",
   "id": "9ff65886",
   "metadata": {},
   "source": [
    "### Answer 1"
   ]
  },
  {
   "cell_type": "code",
   "execution_count": 1,
   "id": "ace89da8",
   "metadata": {},
   "outputs": [
    {
     "name": "stdout",
     "output_type": "stream",
     "text": [
      "1 2 4 5 "
     ]
    }
   ],
   "source": [
    "class Node:\n",
    "    def __init__(self, data):\n",
    "        self.data = data\n",
    "        self.next = None\n",
    "\n",
    "def deleteMiddle(head):\n",
    "    if head is None or head.next is None:\n",
    "        return None\n",
    "\n",
    "    slowPtr = head\n",
    "    fastPtr = head\n",
    "    prevPtr = None\n",
    "\n",
    "    while fastPtr is not None and fastPtr.next is not None:\n",
    "        fastPtr = fastPtr.next.next\n",
    "        prevPtr = slowPtr\n",
    "        slowPtr = slowPtr.next\n",
    "\n",
    "    prevPtr.next = slowPtr.next\n",
    "    return head\n",
    "\n",
    "# Example usage\n",
    "head = Node(1)\n",
    "head.next = Node(2)\n",
    "head.next.next = Node(3)\n",
    "head.next.next.next = Node(4)\n",
    "head.next.next.next.next = Node(5)\n",
    "\n",
    "newHead = deleteMiddle(head)\n",
    "\n",
    "# Print the modified linked list\n",
    "temp = newHead\n",
    "while temp:\n",
    "    print(temp.data, end=\" \")\n",
    "    temp = temp.next\n"
   ]
  },
  {
   "cell_type": "markdown",
   "id": "1fa38af5",
   "metadata": {},
   "source": [
    "### Answer 2"
   ]
  },
  {
   "cell_type": "code",
   "execution_count": 2,
   "id": "99e56c48",
   "metadata": {},
   "outputs": [
    {
     "name": "stdout",
     "output_type": "stream",
     "text": [
      "True\n"
     ]
    }
   ],
   "source": [
    "class Node:\n",
    "    def __init__(self, data):\n",
    "        self.data = data\n",
    "        self.next = None\n",
    "\n",
    "def hasLoop(head):\n",
    "    slowPtr = head\n",
    "    fastPtr = head\n",
    "\n",
    "    while fastPtr is not None and fastPtr.next is not None:\n",
    "        slowPtr = slowPtr.next\n",
    "        fastPtr = fastPtr.next.next\n",
    "\n",
    "        if slowPtr == fastPtr:\n",
    "            return True\n",
    "\n",
    "    return False\n",
    "\n",
    "# Example usage\n",
    "head = Node(1)\n",
    "head.next = Node(2)\n",
    "head.next.next = Node(3)\n",
    "head.next.next.next = Node(4)\n",
    "head.next.next.next.next = head.next  # Creating a loop\n",
    "\n",
    "print(hasLoop(head))\n"
   ]
  },
  {
   "cell_type": "markdown",
   "id": "f4444187",
   "metadata": {},
   "source": [
    "### Answer 3"
   ]
  },
  {
   "cell_type": "code",
   "execution_count": 6,
   "id": "03d4319c",
   "metadata": {},
   "outputs": [
    {
     "name": "stdout",
     "output_type": "stream",
     "text": [
      "8\n"
     ]
    }
   ],
   "source": [
    "class Node:\n",
    "    def __init__(self, data):\n",
    "        self.data = data\n",
    "        self.next = None\n",
    "\n",
    "def getNthFromLast(head, N):\n",
    "    mainPtr = head\n",
    "    refPtr = head\n",
    "\n",
    "    # Move the refPtr N nodes ahead\n",
    "    for _ in range(N):\n",
    "        if refPtr is None:\n",
    "            return -1\n",
    "        refPtr = refPtr.next\n",
    "\n",
    "    # Move both pointers until refPtr reaches the end\n",
    "    while refPtr is not None:\n",
    "        mainPtr = mainPtr.next\n",
    "        refPtr = refPtr.next\n",
    "\n",
    "    return mainPtr.data\n",
    "\n",
    "# Example usage\n",
    "head = Node(1)\n",
    "head.next = Node(2)\n",
    "head.next.next = Node(3)\n",
    "head.next.next.next = Node(4)\n",
    "head.next.next.next.next = Node(5)\n",
    "head.next.next.next.next.next = Node(6)\n",
    "head.next.next.next.next.next.next = Node(7)\n",
    "head.next.next.next.next.next.next.next = Node(8)\n",
    "head.next.next.next.next.next.next.next.next = Node(9)\n",
    "\n",
    "print(getNthFromLast(head, 2))\n"
   ]
  },
  {
   "cell_type": "markdown",
   "id": "395b287c",
   "metadata": {},
   "source": [
    "### Answer 4"
   ]
  },
  {
   "cell_type": "code",
   "execution_count": 10,
   "id": "0181d5da",
   "metadata": {},
   "outputs": [
    {
     "name": "stdout",
     "output_type": "stream",
     "text": [
      "Yes\n",
      "No\n"
     ]
    }
   ],
   "source": [
    "class Node:\n",
    "    def __init__(self, data):\n",
    "        self.data = data\n",
    "        self.next = None\n",
    "\n",
    "def reverseList(head):\n",
    "    prevPtr = None\n",
    "    currPtr = head\n",
    "\n",
    "    while currPtr is not None:\n",
    "        nextPtr = currPtr.next\n",
    "        currPtr.next = prevPtr\n",
    "        prevPtr = currPtr\n",
    "        currPtr = nextPtr\n",
    "\n",
    "    return prevPtr\n",
    "\n",
    "def isPalindrome(head):\n",
    "    slowPtr = head\n",
    "    fastPtr = head\n",
    "\n",
    "    # Find the middle node\n",
    "    while fastPtr is not None and fastPtr.next is not None:\n",
    "        slowPtr = slowPtr.next\n",
    "        fastPtr = fastPtr.next.next\n",
    "\n",
    "    # Reverse the second half of the list\n",
    "    secondHalf = reverseList(slowPtr.next)\n",
    "\n",
    "    # Compare the first half with the reversed second half\n",
    "    firstHalf = head\n",
    "    while secondHalf is not None:\n",
    "        if firstHalf.data != secondHalf.data:\n",
    "            return \"No\"\n",
    "        firstHalf = firstHalf.next\n",
    "        secondHalf = secondHalf.next\n",
    "\n",
    "    return \"Yes\"\n",
    "\n",
    "# Example usage\n",
    "head = Node('R')\n",
    "head.next = Node('A')\n",
    "head.next.next = Node('D')\n",
    "head.next.next.next = Node('A')\n",
    "head.next.next.next.next = Node('R')\n",
    "\n",
    "print(isPalindrome(head))\n",
    "\n",
    "\n",
    "\n",
    "# Example usage\n",
    "head = Node('C')\n",
    "head.next = Node('O')\n",
    "head.next.next = Node('D')\n",
    "head.next.next.next = Node('E')\n",
    "\n",
    "\n",
    "print(isPalindrome(head))"
   ]
  },
  {
   "cell_type": "markdown",
   "id": "d16e669c",
   "metadata": {},
   "source": [
    "### Answer 5"
   ]
  },
  {
   "cell_type": "code",
   "execution_count": 11,
   "id": "2a1cddf3",
   "metadata": {},
   "outputs": [
    {
     "name": "stdout",
     "output_type": "stream",
     "text": [
      "1 2 3 4 5 "
     ]
    }
   ],
   "source": [
    "class Node:\n",
    "    def __init__(self, data):\n",
    "        self.data = data\n",
    "        self.next = None\n",
    "\n",
    "def detectAndRemoveLoop(head):\n",
    "    # Step 1: Detect the loop using Floyd's Cycle Detection algorithm\n",
    "    slowPtr = head\n",
    "    fastPtr = head\n",
    "\n",
    "    while fastPtr is not None and fastPtr.next is not None:\n",
    "        slowPtr = slowPtr.next\n",
    "        fastPtr = fastPtr.next.next\n",
    "\n",
    "        if slowPtr == fastPtr:\n",
    "            break\n",
    "\n",
    "    # If there is no loop, return the linked list as is\n",
    "    if slowPtr != fastPtr:\n",
    "        return head\n",
    "\n",
    "    # Step 2: Move ptr1 to the head and keep ptr2 at the meeting point\n",
    "    ptr1 = head\n",
    "    while ptr1.next != fastPtr.next:\n",
    "        ptr1 = ptr1.next\n",
    "        fastPtr = fastPtr.next\n",
    "\n",
    "    # Step 3: Break the loop by setting the next pointer of the last node to None\n",
    "    fastPtr.next = None\n",
    "\n",
    "    return head\n",
    "\n",
    "# Example usage\n",
    "head = Node(1)\n",
    "head.next = Node(2)\n",
    "head.next.next = Node(3)\n",
    "head.next.next.next = Node(4)\n",
    "head.next.next.next.next = Node(5)\n",
    "head.next.next.next.next.next = head.next  # Creating a loop\n",
    "\n",
    "newHead = detectAndRemoveLoop(head)\n",
    "\n",
    "# Print the modified linked list\n",
    "temp = newHead\n",
    "while temp:\n",
    "    print(temp.data, end=\" \")\n",
    "    temp = temp.next\n"
   ]
  },
  {
   "cell_type": "markdown",
   "id": "da52f55a",
   "metadata": {},
   "source": [
    "### Answer 6"
   ]
  },
  {
   "cell_type": "code",
   "execution_count": 12,
   "id": "b278981a",
   "metadata": {},
   "outputs": [
    {
     "name": "stdout",
     "output_type": "stream",
     "text": [
      "1 2 3 4 5 6 7 8 9 10 "
     ]
    }
   ],
   "source": [
    "class Node:\n",
    "    def __init__(self, data):\n",
    "        self.data = data\n",
    "        self.next = None\n",
    "\n",
    "def deleteMNodesAfterN(head, M, N):\n",
    "    currPtr = head\n",
    "    prevPtr = None\n",
    "\n",
    "    while currPtr is not None:\n",
    "        # Traverse M nodes\n",
    "        for _ in range(M):\n",
    "            if currPtr is None:\n",
    "                return head\n",
    "            currPtr = currPtr.next\n",
    "\n",
    "        # Traverse N nodes and delete them\n",
    "        for _ in range(N):\n",
    "            if currPtr is None:\n",
    "                break\n",
    "            nextPtr = currPtr.next\n",
    "            currPtr = nextPtr\n",
    "\n",
    "        # Update the links after deleting N nodes\n",
    "        if prevPtr is not None:\n",
    "            prevPtr.next = currPtr\n",
    "\n",
    "    return head\n",
    "\n",
    "# Example usage\n",
    "head = Node(1)\n",
    "head.next = Node(2)\n",
    "head.next.next = Node(3)\n",
    "head.next.next.next = Node(4)\n",
    "head.next.next.next.next = Node(5)\n",
    "head.next.next.next.next.next = Node(6)\n",
    "head.next.next.next.next.next.next = Node(7)\n",
    "head.next.next.next.next.next.next.next = Node(8)\n",
    "head.next.next.next.next.next.next.next.next = Node(9)\n",
    "head.next.next.next.next.next.next.next.next.next = Node(10)\n",
    "\n",
    "newHead = deleteMNodesAfterN(head, 3, 2)\n",
    "\n",
    "# Print the modified linked list\n",
    "temp = newHead\n",
    "while temp:\n",
    "    print(temp.data, end=\" \")\n",
    "    temp = temp.next\n"
   ]
  },
  {
   "cell_type": "markdown",
   "id": "953e6c49",
   "metadata": {},
   "source": [
    "### Answer 7"
   ]
  },
  {
   "cell_type": "code",
   "execution_count": 13,
   "id": "58e6449b",
   "metadata": {},
   "outputs": [
    {
     "name": "stdout",
     "output_type": "stream",
     "text": [
      "5 12 7 10 17 2 13 4 11 6 \n",
      "12 7 10 17 2 13 4 11 6 "
     ]
    }
   ],
   "source": [
    "class Node:\n",
    "    def __init__(self, data):\n",
    "        self.data = data\n",
    "        self.next = None\n",
    "\n",
    "def insertAtAlternatePositions(firstHead, secondHead):\n",
    "    if firstHead is None:\n",
    "        return secondHead\n",
    "\n",
    "    if secondHead is None:\n",
    "        return firstHead\n",
    "\n",
    "    firstPtr = firstHead\n",
    "    secondPtr = secondHead\n",
    "\n",
    "    while firstPtr is not None and secondPtr is not None:\n",
    "        nextFirstPtr = firstPtr.next\n",
    "        nextSecondPtr = secondPtr.next\n",
    "\n",
    "        firstPtr.next = secondPtr\n",
    "        secondPtr.next = nextFirstPtr\n",
    "\n",
    "        firstPtr = nextFirstPtr\n",
    "        secondPtr = nextSecondPtr\n",
    "\n",
    "    if secondPtr is not None:\n",
    "        firstPtr.next = secondPtr\n",
    "\n",
    "    secondHead = None\n",
    "\n",
    "    return firstHead\n",
    "\n",
    "# Example usage\n",
    "firstHead = Node(5)\n",
    "firstHead.next = Node(7)\n",
    "firstHead.next.next = Node(17)\n",
    "firstHead.next.next.next = Node(13)\n",
    "firstHead.next.next.next.next = Node(11)\n",
    "\n",
    "secondHead = Node(12)\n",
    "secondHead.next = Node(10)\n",
    "secondHead.next.next = Node(2)\n",
    "secondHead.next.next.next = Node(4)\n",
    "secondHead.next.next.next.next = Node(6)\n",
    "\n",
    "newFirstHead = insertAtAlternatePositions(firstHead, secondHead)\n",
    "\n",
    "# Print the modified first list\n",
    "temp = newFirstHead\n",
    "while temp:\n",
    "    print(temp.data, end=\" \")\n",
    "    temp = temp.next\n",
    "\n",
    "# Print the modified second list\n",
    "print()\n",
    "temp = secondHead\n",
    "while temp:\n",
    "    print(temp.data, end=\" \")\n",
    "    temp = temp.next\n"
   ]
  },
  {
   "cell_type": "markdown",
   "id": "331c147e",
   "metadata": {},
   "source": [
    "### Answer 8"
   ]
  },
  {
   "cell_type": "code",
   "execution_count": 14,
   "id": "4b6c2f3c",
   "metadata": {},
   "outputs": [
    {
     "name": "stdout",
     "output_type": "stream",
     "text": [
      "True\n"
     ]
    }
   ],
   "source": [
    "class Node:\n",
    "    def __init__(self, data):\n",
    "        self.data = data\n",
    "        self.next = None\n",
    "\n",
    "def isCircular(head):\n",
    "    if head is None:\n",
    "        return False\n",
    "\n",
    "    slowPtr = head\n",
    "    fastPtr = head\n",
    "\n",
    "    while fastPtr is not None and fastPtr.next is not None:\n",
    "        slowPtr = slowPtr.next\n",
    "        fastPtr = fastPtr.next.next\n",
    "\n",
    "        if slowPtr == fastPtr:\n",
    "            return True\n",
    "\n",
    "    return False\n",
    "\n",
    "# Example usage\n",
    "head = Node(1)\n",
    "head.next = Node(2)\n",
    "head.next.next = Node(3)\n",
    "head.next.next.next = Node(4)\n",
    "head.next.next.next.next = head  # Creating a loop\n",
    "\n",
    "print(isCircular(head))\n"
   ]
  },
  {
   "cell_type": "code",
   "execution_count": null,
   "id": "b74ed3d0",
   "metadata": {},
   "outputs": [],
   "source": []
  }
 ],
 "metadata": {
  "kernelspec": {
   "display_name": "Python 3 (ipykernel)",
   "language": "python",
   "name": "python3"
  },
  "language_info": {
   "codemirror_mode": {
    "name": "ipython",
    "version": 3
   },
   "file_extension": ".py",
   "mimetype": "text/x-python",
   "name": "python",
   "nbconvert_exporter": "python",
   "pygments_lexer": "ipython3",
   "version": "3.9.13"
  }
 },
 "nbformat": 4,
 "nbformat_minor": 5
}
