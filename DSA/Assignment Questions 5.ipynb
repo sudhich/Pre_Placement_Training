{
 "cells": [
  {
   "cell_type": "markdown",
   "id": "997821a5",
   "metadata": {},
   "source": [
    "### Ans(1)"
   ]
  },
  {
   "cell_type": "code",
   "execution_count": 2,
   "id": "5202ba04",
   "metadata": {},
   "outputs": [
    {
     "name": "stdout",
     "output_type": "stream",
     "text": [
      "[[1, 2], [3, 4]]\n"
     ]
    }
   ],
   "source": [
    "class Solution:\n",
    "    def construct2DArray(self, original: list[int], m: int, n: int) -> list[list[int]]:\n",
    "        if m * n != len(original):\n",
    "            return []  # Return empty 2D array if it is impossible\n",
    "\n",
    "        result = [[0] * n for _ in range(m)]  # Initialize the 2D array with zeros\n",
    "\n",
    "        for i in range(len(original)):\n",
    "            row = i // n  # Calculate the current row index\n",
    "            col = i % n   # Calculate the current column index\n",
    "            result[row][col] = original[i]  # Assign the element to the corresponding position in the 2D array\n",
    "\n",
    "        return result\n",
    "if __name__ == \"__main__\":\n",
    "    solution = Solution()\n",
    "    original = [1, 2, 3, 4]\n",
    "    m = 2\n",
    "    n = 2\n",
    "    print(solution.construct2DArray(original, m, n))"
   ]
  },
  {
   "cell_type": "markdown",
   "id": "29466a71",
   "metadata": {},
   "source": [
    "### Ans(2)"
   ]
  },
  {
   "cell_type": "code",
   "execution_count": 3,
   "id": "20868d9f",
   "metadata": {},
   "outputs": [
    {
     "name": "stdout",
     "output_type": "stream",
     "text": [
      "2\n"
     ]
    }
   ],
   "source": [
    "class Solution:\n",
    "    def arrangeCoins(self, n: int) -> int:\n",
    "        left = 0\n",
    "        right = n\n",
    "\n",
    "        while left <= right:\n",
    "            mid = left + (right - left) // 2\n",
    "            coins_required = (mid * (mid + 1)) // 2\n",
    "\n",
    "            if coins_required == n:\n",
    "                return mid\n",
    "\n",
    "            if coins_required > n:\n",
    "                right = mid - 1\n",
    "            else:\n",
    "                left = mid + 1\n",
    "\n",
    "        return right\n",
    "if __name__ == \"__main__\":\n",
    "    solution = Solution()\n",
    "    n = 5\n",
    "    print(solution.arrangeCoins(n))"
   ]
  },
  {
   "cell_type": "markdown",
   "id": "1c0c2303",
   "metadata": {},
   "source": [
    "### Ans(3)"
   ]
  },
  {
   "cell_type": "code",
   "execution_count": 5,
   "id": "034a66d7",
   "metadata": {},
   "outputs": [
    {
     "name": "stdout",
     "output_type": "stream",
     "text": [
      "[0, 1, 9, 16, 100]\n"
     ]
    }
   ],
   "source": [
    "class Solution:\n",
    "    def sortedSquares(self, nums: list[int]) -> list[int]:\n",
    "    \n",
    "        result = []  # Array to store squared values\n",
    "\n",
    "        for num in nums:\n",
    "            result.append(num * num)  # Square each number and add it to the result array\n",
    "\n",
    "        result.sort()  # Sort the result array in non-decreasing order\n",
    "\n",
    "        return result\n",
    "if __name__ == \"__main__\":\n",
    "    solution = Solution()\n",
    "    nums = [-4, -1, 0, 3, 10]\n",
    "    print(solution.sortedSquares(nums))"
   ]
  },
  {
   "cell_type": "markdown",
   "id": "e52c74b1",
   "metadata": {},
   "source": [
    "### Ans(4)"
   ]
  },
  {
   "cell_type": "code",
   "execution_count": 8,
   "id": "df052180",
   "metadata": {},
   "outputs": [
    {
     "name": "stdout",
     "output_type": "stream",
     "text": [
      "[[1, 3], [4, 6]]\n"
     ]
    }
   ],
   "source": [
    "class Solution:\n",
    "    def findDifference(self, nums1: list[int], nums2: list[int]) -> list[list[int]]:\n",
    "        set1 = set(nums1)  # Convert nums1 to a set for efficient membership testing\n",
    "        set2 = set(nums2)  # Convert nums2 to a set for efficient membership testing\n",
    "\n",
    "        missing_nums1 = list(set1 - set2)  # Find distinct integers in nums1 not present in nums2\n",
    "        missing_nums2 = list(set2 - set1)  # Find distinct integers in nums2 not present in nums1\n",
    "\n",
    "        return [missing_nums1, missing_nums2]\n",
    "if __name__ == \"__main__\":\n",
    "    solution = Solution()    \n",
    "    nums1 = [1, 2, 3]\n",
    "    nums2 = [2, 4, 6]\n",
    "    print(solution.findDifference(nums1, nums2))\n"
   ]
  },
  {
   "cell_type": "markdown",
   "id": "55a553a7",
   "metadata": {},
   "source": [
    "### Ans(5)"
   ]
  },
  {
   "cell_type": "code",
   "execution_count": 9,
   "id": "05f6f31d",
   "metadata": {},
   "outputs": [
    {
     "name": "stdout",
     "output_type": "stream",
     "text": [
      "2\n"
     ]
    }
   ],
   "source": [
    "class Solution:\n",
    "    def findTheDistanceValue(self, arr1: list[int], arr2: list[int], d: int) -> int:\n",
    "        distance_value = 0\n",
    "\n",
    "        for num1 in arr1:\n",
    "            for num2 in arr2:\n",
    "                if abs(num1 - num2) <= d:\n",
    "                    break\n",
    "            else:\n",
    "                distance_value += 1\n",
    "\n",
    "        return distance_value\n",
    "if __name__ == \"__main__\":\n",
    "    solution = Solution()  \n",
    "    arr1 = [4, 5, 8]\n",
    "    arr2 = [10, 9, 1, 8]\n",
    "    d = 2\n",
    "    print(solution.findTheDistanceValue(arr1, arr2, d))\n"
   ]
  },
  {
   "cell_type": "markdown",
   "id": "b31637d2",
   "metadata": {},
   "source": [
    "### Ans(6)"
   ]
  },
  {
   "cell_type": "code",
   "execution_count": 15,
   "id": "e74ea9c2",
   "metadata": {},
   "outputs": [
    {
     "name": "stdout",
     "output_type": "stream",
     "text": [
      "[3, 2]\n"
     ]
    }
   ],
   "source": [
    "class Solution:\n",
    "    def findDuplicates(self, nums: list[int]) -> list[int]:\n",
    "        res = []\n",
    "        hm = {}\n",
    "        # adding entries in hashmap to check frequency\n",
    "        for i, v in enumerate(nums):\n",
    "            if v not in hm:\n",
    "                hm[v] = 1\n",
    "            else:\n",
    "                hm[v] += 1\n",
    "        # checking frequency of item and adding output to an array\n",
    "        for key, value in hm.items():\n",
    "            if value > 1:\n",
    "                res.append(key)\n",
    "        return res\n",
    "if __name__ == \"__main__\":\n",
    "    solution = Solution()\n",
    "    nums = [4, 3, 2, 7, 8, 2, 3, 1]\n",
    "    print(solution.findDuplicates(nums))"
   ]
  },
  {
   "cell_type": "markdown",
   "id": "dfa41acf",
   "metadata": {},
   "source": [
    "## 2nd Method"
   ]
  },
  {
   "cell_type": "code",
   "execution_count": 13,
   "id": "8703fb77",
   "metadata": {},
   "outputs": [
    {
     "name": "stdout",
     "output_type": "stream",
     "text": [
      "[2, -3]\n"
     ]
    }
   ],
   "source": [
    "class Solution:\n",
    "    def findDuplicates(self, nums: list[int]) -> list[int]:\n",
    "        result = []\n",
    "\n",
    "        for num in nums:\n",
    "            index = abs(num) - 1\n",
    "            if nums[index] < 0:\n",
    "                result.append((num))\n",
    "            else:\n",
    "                nums[index] = -nums[index]\n",
    "\n",
    "        return result\n",
    "if __name__ == \"__main__\":\n",
    "    solution = Solution()\n",
    "    nums = [4, 3, 2, 7, 8, 2, 3, 1]\n",
    "    print(solution.findDuplicates(nums))\n"
   ]
  },
  {
   "cell_type": "markdown",
   "id": "699473af",
   "metadata": {},
   "source": [
    "### Ans(7)"
   ]
  },
  {
   "cell_type": "code",
   "execution_count": 17,
   "id": "9369016f",
   "metadata": {},
   "outputs": [
    {
     "name": "stdout",
     "output_type": "stream",
     "text": [
      "1\n"
     ]
    }
   ],
   "source": [
    "class Solution:\n",
    "    def findMin(self, nums: list[int]) -> int:\n",
    "        left = 0\n",
    "        right = len(nums) - 1\n",
    "\n",
    "        while left < right:\n",
    "            mid = left + (right - left) // 2\n",
    "\n",
    "            # Check if the mid element is greater than the rightmost element\n",
    "            if nums[mid] > nums[right]:\n",
    "                left = mid + 1\n",
    "            else:\n",
    "                right = mid\n",
    "\n",
    "        return nums[left]\n",
    "\n",
    "if __name__ == \"__main__\":\n",
    "    solution = Solution()\n",
    "    nums = [3, 4, 5, 1, 2]\n",
    "    print(solution.findMin(nums))"
   ]
  },
  {
   "cell_type": "markdown",
   "id": "f4df00bf",
   "metadata": {},
   "source": [
    "### Ans(8)"
   ]
  },
  {
   "cell_type": "code",
   "execution_count": 19,
   "id": "2e059507",
   "metadata": {},
   "outputs": [
    {
     "name": "stdout",
     "output_type": "stream",
     "text": [
      "[1, 3, 4]\n"
     ]
    }
   ],
   "source": [
    "from collections import Counter\n",
    "class Solution:\n",
    "    def findOriginalArray(self, changed: list[int]) -> list[int]:\n",
    "        C = changed\n",
    "        C.sort()\n",
    "        H = Counter(C)\n",
    "        ans = []\n",
    "        for c in C:\n",
    "            if H[c]:\n",
    "                H[c] -= 1\n",
    "                if H.get(c+c, 0) > 0:\n",
    "                    H[c+c] -= 1\n",
    "                    ans.append(c)\n",
    "                else:\n",
    "                    return []\n",
    "        return ans\n",
    "if __name__ == \"__main__\":\n",
    "    solution = Solution()\n",
    "    changed = [1,3,4,2,6,8]\n",
    "    print(solution.findOriginalArray(changed))"
   ]
  },
  {
   "cell_type": "code",
   "execution_count": null,
   "id": "f0c8365e",
   "metadata": {},
   "outputs": [],
   "source": []
  }
 ],
 "metadata": {
  "kernelspec": {
   "display_name": "Python 3 (ipykernel)",
   "language": "python",
   "name": "python3"
  },
  "language_info": {
   "codemirror_mode": {
    "name": "ipython",
    "version": 3
   },
   "file_extension": ".py",
   "mimetype": "text/x-python",
   "name": "python",
   "nbconvert_exporter": "python",
   "pygments_lexer": "ipython3",
   "version": "3.9.13"
  }
 },
 "nbformat": 4,
 "nbformat_minor": 5
}
