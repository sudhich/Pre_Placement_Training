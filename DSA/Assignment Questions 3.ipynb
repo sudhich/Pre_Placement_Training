{
 "cells": [
  {
   "cell_type": "markdown",
   "id": "997821a5",
   "metadata": {},
   "source": [
    "### Ans(1)"
   ]
  },
  {
   "cell_type": "code",
   "execution_count": 2,
   "id": "5202ba04",
   "metadata": {},
   "outputs": [
    {
     "name": "stdout",
     "output_type": "stream",
     "text": [
      "2\n"
     ]
    }
   ],
   "source": [
    "def threeSumClosest(nums: list[int], target: int) -> int:\n",
    "        nums.sort()\n",
    "        closestSum = float('inf')\n",
    "        \n",
    "        for i in range(len(nums) - 2):\n",
    "            left = i + 1\n",
    "            right = len(nums) - 1\n",
    "            \n",
    "            while left < right:\n",
    "                curSum = nums[i] + nums[left] + nums[right]\n",
    "                \n",
    "                if curSum == target:\n",
    "                    return curSum\n",
    "                \n",
    "                if abs(target - curSum) < abs(target - closestSum):\n",
    "                    closestSum = curSum\n",
    "                \n",
    "                if curSum < target:\n",
    "                    left += 1\n",
    "                else:\n",
    "                    right -= 1\n",
    "        \n",
    "        return closestSum\n",
    "\n",
    "if __name__ == \"__main__\":\n",
    "    nums = [-1,2,1,-4]\n",
    "    target = 1\n",
    "    print(threeSumClosest(nums, target))"
   ]
  },
  {
   "cell_type": "markdown",
   "id": "29466a71",
   "metadata": {},
   "source": [
    "### Ans(2)"
   ]
  },
  {
   "cell_type": "code",
   "execution_count": 5,
   "id": "20868d9f",
   "metadata": {},
   "outputs": [
    {
     "name": "stdout",
     "output_type": "stream",
     "text": [
      "[[-2, -1, 1, 2], [-2, 0, 0, 2], [-1, 0, 0, 1]]\n"
     ]
    }
   ],
   "source": [
    "class Solution:\n",
    "    def fourSum(self, nums: list[int], target: int) -> list[list[int]]:\n",
    "        def kSum(nums: list[int], target: int, k: int) -> list[list[int]]:\n",
    "            res = []\n",
    "            \n",
    "            # If we have run out of numbers to add, return res.\n",
    "            if not nums:\n",
    "                return res\n",
    "            \n",
    "            # There are k remaining values to add to the sum. The \n",
    "            # average of these values is at least target // k.\n",
    "            average_value = target // k\n",
    "            \n",
    "            # We cannot obtain a sum of target if the smallest value\n",
    "            # in nums is greater than target // k or if the largest \n",
    "            # value in nums is smaller than target // k.\n",
    "            if average_value < nums[0] or nums[-1] < average_value:\n",
    "                return res\n",
    "            \n",
    "            if k == 2:\n",
    "                return twoSum(nums, target)\n",
    "    \n",
    "            for i in range(len(nums)):\n",
    "                if i == 0 or nums[i - 1] != nums[i]:\n",
    "                    for subset in kSum(nums[i + 1:], target - nums[i], k - 1):\n",
    "                        res.append([nums[i]] + subset)\n",
    "    \n",
    "            return res\n",
    "\n",
    "        def twoSum(nums: list[int], target: int) -> list[list[int]]:\n",
    "            res = []\n",
    "            s = set()\n",
    "    \n",
    "            for i in range(len(nums)):\n",
    "                if len(res) == 0 or res[-1][1] != nums[i]:\n",
    "                    if target - nums[i] in s:\n",
    "                        res.append([target - nums[i], nums[i]])\n",
    "                s.add(nums[i])\n",
    "    \n",
    "            return res\n",
    "\n",
    "        nums.sort()\n",
    "        return kSum(nums, target, 4)\n",
    "if __name__ == \"__main__\":\n",
    "    solution = Solution()\n",
    "    nums = [1, 0, -1, 0, -2, 2]\n",
    "    target = 0\n",
    "    result = solution.fourSum(nums, target)\n",
    "    print(result) "
   ]
  },
  {
   "cell_type": "markdown",
   "id": "c8d9a719",
   "metadata": {},
   "source": [
    "### 2nd Method"
   ]
  },
  {
   "cell_type": "code",
   "execution_count": 6,
   "id": "8fc51841",
   "metadata": {},
   "outputs": [
    {
     "name": "stdout",
     "output_type": "stream",
     "text": [
      "[[-2, -1, 1, 2], [-2, 0, 0, 2], [-1, 0, 0, 1]]\n"
     ]
    }
   ],
   "source": [
    "class Solution:\n",
    "    def fourSum(self, nums, target):\n",
    "        nums.sort()\n",
    "        result = []\n",
    "        \n",
    "        for i in range(len(nums) - 3):\n",
    "            # Skip duplicates\n",
    "            if i > 0 and nums[i] == nums[i-1]:\n",
    "                continue\n",
    "            \n",
    "            for j in range(i + 1, len(nums) - 2):\n",
    "                # Skip duplicates\n",
    "                if j > i + 1 and nums[j] == nums[j-1]:\n",
    "                    continue\n",
    "                \n",
    "                left = j + 1\n",
    "                right = len(nums) - 1\n",
    "                \n",
    "                while left < right:\n",
    "                    curSum = nums[i] + nums[j] + nums[left] + nums[right]\n",
    "                    \n",
    "                    if curSum == target:\n",
    "                        result.append([nums[i], nums[j], nums[left], nums[right]])\n",
    "                        # Skip duplicates\n",
    "                        while left < right and nums[left] == nums[left + 1]:\n",
    "                            left += 1\n",
    "                        while left < right and nums[right] == nums[right - 1]:\n",
    "                            right -= 1\n",
    "                        left += 1\n",
    "                        right -= 1\n",
    "                    elif curSum < target:\n",
    "                        left += 1\n",
    "                    else:\n",
    "                        right -= 1\n",
    "        \n",
    "        return result\n",
    "\n",
    "solution = Solution()\n",
    "nums = [1, 0, -1, 0, -2, 2]\n",
    "target = 0\n",
    "result = solution.fourSum(nums, target)\n",
    "print(result)  # Output: [[-2, -1, 1, 2], [-2, 0, 0, 2], [-1, 0, 0, 1]]\n"
   ]
  },
  {
   "cell_type": "markdown",
   "id": "1c0c2303",
   "metadata": {},
   "source": [
    "### Ans(3)"
   ]
  },
  {
   "cell_type": "code",
   "execution_count": 9,
   "id": "034a66d7",
   "metadata": {},
   "outputs": [],
   "source": [
    "class Solution:\n",
    "    def nextPermutation(self, nums: list[int]) -> None:\n",
    "        \"\"\"\n",
    "        Do not return anything, modify nums in-place instead.\n",
    "        \"\"\"\n",
    "\n",
    "        # Find the first pair of adjacent elements where nums[i] < nums[i+1]\n",
    "        i = len(nums) - 2\n",
    "        while i >= 0 and nums[i] >= nums[i + 1]:\n",
    "            i -= 1\n",
    "        \n",
    "        if i >= 0:\n",
    "            # Find the first element from the right that is larger than nums[i]\n",
    "            j = len(nums) - 1\n",
    "            while j > i and nums[j] <= nums[i]:\n",
    "                j -= 1\n",
    "            # Swap nums[i] and nums[j]\n",
    "            nums[i], nums[j] = nums[j], nums[i]\n",
    "        \n",
    "        # Reverse the subarray from index i+1 till the end\n",
    "        left, right = i + 1, len(nums) - 1\n",
    "        while left < right:\n",
    "            nums[left], nums[right] = nums[right], nums[left]\n",
    "            left += 1\n",
    "            right -= 1\n",
    "\n",
    "if __name__ == \"__main__\":\n",
    "    nums = [1,2,3]\n",
    "    solution=Solution()\n",
    "    solution.nextPermutation(nums)"
   ]
  },
  {
   "cell_type": "markdown",
   "id": "e52c74b1",
   "metadata": {},
   "source": [
    "### Ans(4)"
   ]
  },
  {
   "cell_type": "code",
   "execution_count": 10,
   "id": "df052180",
   "metadata": {},
   "outputs": [
    {
     "name": "stdout",
     "output_type": "stream",
     "text": [
      "2\n"
     ]
    }
   ],
   "source": [
    "class Solution:\n",
    "    def searchInsert(self, nums: list[int], target: int) -> int:\n",
    "        l = 0\n",
    "        r = len(nums) - 1\n",
    "        while l <= r:\n",
    "            mid = (l + r) // 2\n",
    "            if nums[mid] < target:\n",
    "                l = mid + 1\n",
    "            elif nums[mid] > target:\n",
    "                r = mid - 1\n",
    "            else:\n",
    "                return mid\n",
    "        return l\n",
    "if __name__ == \"__main__\":\n",
    "    nums = [1,3,5,6]\n",
    "    target = 5\n",
    "    solution=Solution()\n",
    "    print(solution.searchInsert(nums, target))"
   ]
  },
  {
   "cell_type": "markdown",
   "id": "55a553a7",
   "metadata": {},
   "source": [
    "### Ans(5)"
   ]
  },
  {
   "cell_type": "code",
   "execution_count": 11,
   "id": "7d91ad5f",
   "metadata": {},
   "outputs": [
    {
     "name": "stdout",
     "output_type": "stream",
     "text": [
      "[1, 2, 4]\n"
     ]
    }
   ],
   "source": [
    "class Solution:\n",
    "    def plusOne(self, digits: list[int]) -> list[int]:\n",
    "        for i in range(len(digits)-1, -1, -1):\n",
    "            if digits[i] < 9:\n",
    "                digits[i] += 1\n",
    "                return digits\n",
    "            digits[i] = 0\n",
    "\n",
    "        digits = [0] * (len(digits) + 1)\n",
    "        digits[0] = 1\n",
    "        return digits\n",
    "\n",
    "if __name__ == \"__main__\":\n",
    "    digits = [1,2,3]\n",
    "    solution=Solution()\n",
    "    print(solution.plusOne(digits))\n"
   ]
  },
  {
   "cell_type": "markdown",
   "id": "b31637d2",
   "metadata": {},
   "source": [
    "### Ans(6)"
   ]
  },
  {
   "cell_type": "code",
   "execution_count": 12,
   "id": "8703fb77",
   "metadata": {},
   "outputs": [
    {
     "name": "stdout",
     "output_type": "stream",
     "text": [
      "1\n"
     ]
    }
   ],
   "source": [
    "class Solution:\n",
    "    def singleNumber(self, nums: list[int]) -> int:\n",
    "        result = 0\n",
    "        for num in nums:\n",
    "            result ^= num\n",
    "        return result\n",
    "\n",
    "if __name__ == \"__main__\":\n",
    "    nums = [2,2,1]\n",
    "    solution=Solution()\n",
    "    print(solution.singleNumber(nums))"
   ]
  },
  {
   "cell_type": "markdown",
   "id": "a393689a",
   "metadata": {},
   "source": [
    "### 2nd Method"
   ]
  },
  {
   "cell_type": "code",
   "execution_count": 14,
   "id": "222eb994",
   "metadata": {},
   "outputs": [
    {
     "name": "stdout",
     "output_type": "stream",
     "text": [
      "1\n"
     ]
    }
   ],
   "source": [
    "class Solution:\n",
    "    def singleNumber(self, nums: list[int]) -> int:\n",
    "        nums.sort()\n",
    "        for i in range(1, len(nums), 2):\n",
    "            if nums[i] != nums[i - 1]:\n",
    "                return nums[i - 1]\n",
    "        return nums[-1]\n",
    "\n",
    "if __name__ == \"__main__\":\n",
    "    nums = [2,2,1]\n",
    "    solution=Solution()\n",
    "    print(solution.singleNumber(nums)) "
   ]
  },
  {
   "cell_type": "markdown",
   "id": "699473af",
   "metadata": {},
   "source": [
    "### Ans(7)"
   ]
  },
  {
   "cell_type": "code",
   "execution_count": 23,
   "id": "9369016f",
   "metadata": {},
   "outputs": [
    {
     "name": "stdout",
     "output_type": "stream",
     "text": [
      "['2', '4->49', '51->74', '76->99']\n"
     ]
    }
   ],
   "source": [
    "def findMissingRanges(nums, lower, upper):\n",
    "    result = []\n",
    "    prev = lower - 1\n",
    "\n",
    "    for num in nums + [upper + 1]:\n",
    "        if num - prev >= 2:\n",
    "            result.append(getRange(prev + 1, num - 1))\n",
    "        prev = num\n",
    "\n",
    "    return result\n",
    "\n",
    "def getRange(start, end):\n",
    "    if start == end:\n",
    "        return str(start)\n",
    "    else:\n",
    "        return str(start) + \"->\" + str(end)\n",
    "nums = [0, 1, 3, 50, 75]\n",
    "lower = 0\n",
    "upper = 99\n",
    "result = findMissingRanges(nums, lower, upper)\n",
    "print(result)  # Output: [[2,2],[4,49],[51,74],[76,99]]"
   ]
  },
  {
   "cell_type": "markdown",
   "id": "f4df00bf",
   "metadata": {},
   "source": [
    "### Ans(8)"
   ]
  },
  {
   "cell_type": "code",
   "execution_count": 1,
   "id": "2e059507",
   "metadata": {},
   "outputs": [
    {
     "name": "stdout",
     "output_type": "stream",
     "text": [
      "False\n"
     ]
    }
   ],
   "source": [
    "def canAttendMeetings(intervals):\n",
    "    # Sort the intervals based on the start time\n",
    "    intervals.sort(key=lambda x: x[0])\n",
    "\n",
    "    # Check for overlaps\n",
    "    for i in range(1, len(intervals)):\n",
    "        if intervals[i][0] < intervals[i-1][1]:\n",
    "            # Overlap found\n",
    "            return False\n",
    "\n",
    "    # No overlaps found\n",
    "    return True\n",
    "\n",
    "intervals = [[0,30],[5,10],[15,20]]\n",
    "print(canAttendMeetings(intervals))  # Output: False"
   ]
  },
  {
   "cell_type": "code",
   "execution_count": null,
   "id": "f0c8365e",
   "metadata": {},
   "outputs": [],
   "source": []
  }
 ],
 "metadata": {
  "kernelspec": {
   "display_name": "Python 3 (ipykernel)",
   "language": "python",
   "name": "python3"
  },
  "language_info": {
   "codemirror_mode": {
    "name": "ipython",
    "version": 3
   },
   "file_extension": ".py",
   "mimetype": "text/x-python",
   "name": "python",
   "nbconvert_exporter": "python",
   "pygments_lexer": "ipython3",
   "version": "3.9.13"
  }
 },
 "nbformat": 4,
 "nbformat_minor": 5
}
