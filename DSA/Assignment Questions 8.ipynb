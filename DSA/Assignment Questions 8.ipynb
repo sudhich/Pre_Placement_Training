{
 "cells": [
  {
   "cell_type": "markdown",
   "id": "997821a5",
   "metadata": {},
   "source": [
    "### Ans(1)"
   ]
  },
  {
   "cell_type": "code",
   "execution_count": 9,
   "id": "59467460",
   "metadata": {},
   "outputs": [
    {
     "name": "stdout",
     "output_type": "stream",
     "text": [
      "231\n"
     ]
    }
   ],
   "source": [
    "def minimumDeleteSum(s1, s2):\n",
    "    m, n = len(s1), len(s2)\n",
    "    dp = [[0] * (n+1) for _ in range(m+1)]\n",
    "\n",
    "    for i in range(1, m+1):\n",
    "        dp[i][0] = dp[i-1][0] + ord(s1[i-1])\n",
    "\n",
    "    for j in range(1, n+1):\n",
    "        dp[0][j] = dp[0][j-1] + ord(s2[j-1])\n",
    "\n",
    "    for i in range(1, m+1):\n",
    "        for j in range(1, n+1):\n",
    "            if s1[i-1] == s2[j-1]:\n",
    "                dp[i][j] = dp[i-1][j-1]\n",
    "            else:\n",
    "                dp[i][j] = min(dp[i-1][j] + ord(s1[i-1]), dp[i][j-1] + ord(s2[j-1]))\n",
    "\n",
    "    return dp[m][n]\n",
    "s1 = \"sea\"\n",
    "s2 = \"eat\"\n",
    "print(minimumDeleteSum(s1, s2))  # Output: 231\n"
   ]
  },
  {
   "cell_type": "markdown",
   "id": "a01681d7",
   "metadata": {},
   "source": [
    "### Ans(2):"
   ]
  },
  {
   "cell_type": "code",
   "execution_count": 10,
   "id": "a6cbc50c",
   "metadata": {},
   "outputs": [
    {
     "name": "stdout",
     "output_type": "stream",
     "text": [
      "True\n"
     ]
    }
   ],
   "source": [
    "def checkValidString(s):\n",
    "    stack = []\n",
    "\n",
    "    for char in s:\n",
    "        if char == '(' or char == '*':\n",
    "            stack.append(char)\n",
    "        elif char == ')':\n",
    "            if stack and stack[-1] == '(':\n",
    "                stack.pop()\n",
    "            elif stack and stack[-1] == '*':\n",
    "                stack.pop()\n",
    "            else:\n",
    "                return False\n",
    "\n",
    "    asterisks = []\n",
    "\n",
    "    for char in stack:\n",
    "        if char == '(':\n",
    "            if asterisks:\n",
    "                asterisks.pop()\n",
    "            else:\n",
    "                return False\n",
    "        elif char == '*':\n",
    "            asterisks.append(char)\n",
    "\n",
    "    return len(asterisks) == 0\n",
    "s = \"()\"\n",
    "print(checkValidString(s))  # Output: True\n"
   ]
  },
  {
   "cell_type": "markdown",
   "id": "1cdff67c",
   "metadata": {},
   "source": [
    "### Ans(3):"
   ]
  },
  {
   "cell_type": "code",
   "execution_count": 11,
   "id": "ec257aa2",
   "metadata": {},
   "outputs": [
    {
     "name": "stdout",
     "output_type": "stream",
     "text": [
      "2\n"
     ]
    }
   ],
   "source": [
    "def minSteps(word1, word2):\n",
    "    m, n = len(word1), len(word2)\n",
    "    dp = [[0] * (n+1) for _ in range(m+1)]\n",
    "\n",
    "    for i in range(1, m+1):\n",
    "        dp[i][0] = i\n",
    "\n",
    "    for j in range(1, n+1):\n",
    "        dp[0][j] = j\n",
    "\n",
    "    for i in range(1, m+1):\n",
    "        for j in range(1, n+1):\n",
    "            if word1[i-1] == word2[j-1]:\n",
    "                dp[i][j] = dp[i-1][j-1]\n",
    "            else:\n",
    "                dp[i][j] = min(dp[i-1][j] + 1, dp[i][j-1] + 1)\n",
    "\n",
    "    return dp[m][n]\n",
    "word1 = \"sea\"\n",
    "word2 = \"eat\"\n",
    "print(minSteps(word1, word2))  # Output: 2\n"
   ]
  },
  {
   "cell_type": "markdown",
   "id": "4ae7acc0",
   "metadata": {},
   "source": [
    "### Ans(4):"
   ]
  },
  {
   "cell_type": "code",
   "execution_count": 16,
   "id": "e9647d4d",
   "metadata": {},
   "outputs": [
    {
     "name": "stdout",
     "output_type": "stream",
     "text": [
      "[4, 2, 3, 0, 1, 1, 6, 5]\n"
     ]
    }
   ],
   "source": [
    "class TreeNode:\n",
    "    def __init__(self, val=0, left=None, right=None):\n",
    "        self.val = val\n",
    "        self.left = left\n",
    "        self.right = right\n",
    "\n",
    "def buildTree(s, start, end):\n",
    "    if start > end:\n",
    "        return None\n",
    "\n",
    "    # Find the root value\n",
    "    rootVal = 0\n",
    "    i = start\n",
    "    while i <= end and s[i] != '(':\n",
    "        rootVal = rootVal * 10 + int(s[i])\n",
    "        i += 1\n",
    "\n",
    "    # Create the root node\n",
    "    root = TreeNode(rootVal)\n",
    "\n",
    "    # Find the indices of the left subtree\n",
    "    leftStart = i + 1\n",
    "    leftEnd = leftStart\n",
    "    count = 1\n",
    "    while count != 0:\n",
    "        if s[leftEnd] == '(':\n",
    "            count += 1\n",
    "        elif s[leftEnd] == ')':\n",
    "            count -= 1\n",
    "        leftEnd += 1\n",
    "\n",
    "    # Recursively build the left subtree\n",
    "    root.left = buildTree(s, leftStart, leftEnd - 2)\n",
    "\n",
    "    # Check if there is a right subtree\n",
    "    rightStart = leftEnd + 1\n",
    "    if rightStart <= end:\n",
    "        root.right = buildTree(s, rightStart, end - 1)\n",
    "\n",
    "    return root\n",
    "\n",
    "def treeToList(root):\n",
    "    if root is None:\n",
    "        return []\n",
    "\n",
    "    result = []\n",
    "    result.append(root.val)\n",
    "    result.extend(treeToList(root.left))\n",
    "    result.extend(treeToList(root.right))\n",
    "    return result\n",
    "\n",
    "def constructTreeFromString(s):\n",
    "    if not s:\n",
    "        return None\n",
    "\n",
    "    root = buildTree(s, 0, len(s) - 1)\n",
    "    return treeToList(root)\n",
    "s = \"4(2(3)(1))(6(5))\"\n",
    "result = constructTreeFromString(s)\n",
    "print(result)  # Output: [4, 2, 6, 3, 1, 5]\n"
   ]
  },
  {
   "cell_type": "markdown",
   "id": "51698843",
   "metadata": {},
   "source": [
    "### 2nd Method"
   ]
  },
  {
   "cell_type": "code",
   "execution_count": 17,
   "id": "0498e9db",
   "metadata": {},
   "outputs": [
    {
     "name": "stdout",
     "output_type": "stream",
     "text": [
      "[4, 2, 3, 1, 6, 5]\n"
     ]
    }
   ],
   "source": [
    "class TreeNode:\n",
    "    def __init__(self, val=0, left=None, right=None):\n",
    "        self.val = val\n",
    "        self.left = left\n",
    "        self.right = right\n",
    "\n",
    "def buildTree(s, index):\n",
    "    if index >= len(s) or not s[index].isdigit():\n",
    "        return None\n",
    "\n",
    "    # Extract the root value\n",
    "    rootVal = 0\n",
    "    while index < len(s) and s[index].isdigit():\n",
    "        rootVal = rootVal * 10 + int(s[index])\n",
    "        index += 1\n",
    "\n",
    "    # Create the root node\n",
    "    root = TreeNode(rootVal)\n",
    "\n",
    "    if index < len(s) and s[index] == '(':\n",
    "        # Recursively build the left subtree\n",
    "        root.left, index = buildTree(s, index + 1)\n",
    "\n",
    "        # Skip the closing parenthesis after the left subtree\n",
    "        index += 1\n",
    "\n",
    "    if index < len(s) and s[index] == '(':\n",
    "        # Recursively build the right subtree\n",
    "        root.right, index = buildTree(s, index + 1)\n",
    "\n",
    "        # Skip the closing parenthesis after the right subtree\n",
    "        index += 1\n",
    "\n",
    "    return root, index\n",
    "\n",
    "def treeToList(root):\n",
    "    if root is None:\n",
    "        return []\n",
    "\n",
    "    result = [root.val]\n",
    "    result.extend(treeToList(root.left))\n",
    "    result.extend(treeToList(root.right))\n",
    "    return result\n",
    "\n",
    "def constructTreeFromString(s):\n",
    "    if not s:\n",
    "        return []\n",
    "\n",
    "    root, _ = buildTree(s, 0)\n",
    "    return treeToList(root)\n",
    "s = \"4(2(3)(1))(6(5))\"\n",
    "result = constructTreeFromString(s)\n",
    "print(result)\n"
   ]
  },
  {
   "cell_type": "markdown",
   "id": "88862f58",
   "metadata": {},
   "source": [
    "### Ans(5):"
   ]
  },
  {
   "cell_type": "code",
   "execution_count": 18,
   "id": "a5336cce",
   "metadata": {},
   "outputs": [
    {
     "name": "stdout",
     "output_type": "stream",
     "text": [
      "6\n",
      "['a', '2', 'b', '2', 'c', '3']\n"
     ]
    }
   ],
   "source": [
    "def compress(chars):\n",
    "    writePtr = 0  # Pointer for writing characters in the array\n",
    "    count = 1     # Count of consecutive repeating characters\n",
    "\n",
    "    for i in range(1, len(chars)):\n",
    "        if chars[i] == chars[i-1]:\n",
    "            count += 1\n",
    "        else:\n",
    "            chars[writePtr] = chars[i-1]\n",
    "            writePtr += 1\n",
    "\n",
    "            if count > 1:\n",
    "                countStr = str(count)\n",
    "                for digit in countStr:\n",
    "                    chars[writePtr] = digit\n",
    "                    writePtr += 1\n",
    "\n",
    "            count = 1\n",
    "\n",
    "    # Write the last group of consecutive repeating characters\n",
    "    chars[writePtr] = chars[-1]\n",
    "    writePtr += 1\n",
    "\n",
    "    if count > 1:\n",
    "        countStr = str(count)\n",
    "        for digit in countStr:\n",
    "            chars[writePtr] = digit\n",
    "            writePtr += 1\n",
    "\n",
    "    return writePtr\n",
    "chars = [\"a\",\"a\",\"b\",\"b\",\"c\",\"c\",\"c\"]\n",
    "newLength = compress(chars)\n",
    "print(newLength)  # Output: 6\n",
    "print(chars[:newLength])  # Output: [\"a\",\"2\",\"b\",\"2\",\"c\",\"3\"]\n"
   ]
  },
  {
   "cell_type": "markdown",
   "id": "c6099237",
   "metadata": {},
   "source": [
    "### 2nd Method"
   ]
  },
  {
   "cell_type": "code",
   "execution_count": 19,
   "id": "b40f7794",
   "metadata": {},
   "outputs": [
    {
     "name": "stdout",
     "output_type": "stream",
     "text": [
      "6\n",
      "['a', '2', 'b', '2', 'c', '3']\n"
     ]
    }
   ],
   "source": [
    "class Solution:\n",
    "    def compress(self, chars: list[str]) -> int:\n",
    "        i = 0\n",
    "        res = 0\n",
    "        while i < len(chars):\n",
    "            group_length = 1\n",
    "            while (i + group_length < len(chars)\n",
    "                   and chars[i + group_length] == chars[i]):\n",
    "                group_length += 1\n",
    "            chars[res] = chars[i]\n",
    "            res += 1\n",
    "            if group_length > 1:\n",
    "                str_repr = str(group_length)\n",
    "                chars[res:res+len(str_repr)] = list(str_repr)\n",
    "                res += len(str_repr)\n",
    "            i += group_length\n",
    "        return res\n",
    "chars = [\"a\",\"a\",\"b\",\"b\",\"c\",\"c\",\"c\"]\n",
    "newLength = compress(chars)\n",
    "print(newLength)  # Output: 6\n",
    "print(chars[:newLength])  # Output: [\"a\",\"2\",\"b\",\"2\",\"c\",\"3\"]\n"
   ]
  },
  {
   "cell_type": "markdown",
   "id": "8d148d5b",
   "metadata": {},
   "source": [
    "### Ans(6):"
   ]
  },
  {
   "cell_type": "code",
   "execution_count": 27,
   "id": "d20a3f92",
   "metadata": {},
   "outputs": [
    {
     "name": "stdout",
     "output_type": "stream",
     "text": [
      "[0, 6]\n"
     ]
    }
   ],
   "source": [
    "from collections import defaultdict\n",
    "\n",
    "def findAnagrams(s, p):\n",
    "    pFreq = defaultdict(int)\n",
    "    windowFreq = defaultdict(int)\n",
    "    result = []\n",
    "\n",
    "    for ch in p:\n",
    "        pFreq[ch] += 1\n",
    "\n",
    "    left = right = count = 0\n",
    "\n",
    "    while right < len(s):\n",
    "        if s[right] in pFreq:\n",
    "            windowFreq[s[right]] += 1\n",
    "            if windowFreq[s[right]] <= pFreq[s[right]]:\n",
    "                count += 1\n",
    "\n",
    "        if right - left + 1 == len(p):\n",
    "            if count == len(p):\n",
    "                result.append(left)\n",
    "\n",
    "            if s[left] in pFreq:\n",
    "                windowFreq[s[left]] -= 1\n",
    "                if windowFreq[s[left]] < pFreq[s[left]]:\n",
    "                    count -= 1\n",
    "\n",
    "            left += 1\n",
    "\n",
    "        right += 1\n",
    "\n",
    "    return result\n",
    "s = \"cbaebabacd\"\n",
    "p = \"abc\"\n",
    "indices = findAnagrams(s, p)\n",
    "print(indices)  # Output: [0, 6]\n"
   ]
  },
  {
   "cell_type": "markdown",
   "id": "bc2d6d73",
   "metadata": {},
   "source": [
    "### Ans(7):"
   ]
  },
  {
   "cell_type": "code",
   "execution_count": 28,
   "id": "027179b7",
   "metadata": {},
   "outputs": [
    {
     "name": "stdout",
     "output_type": "stream",
     "text": [
      "aaabcbc\n"
     ]
    }
   ],
   "source": [
    "def decodeString(s):\n",
    "    stack = []\n",
    "\n",
    "    repeat_num = 0\n",
    "    current_string = \"\"\n",
    "\n",
    "    for ch in s:\n",
    "        if ch.isdigit():\n",
    "            repeat_num = repeat_num * 10 + int(ch)\n",
    "        elif ch == \"[\":\n",
    "            stack.append((repeat_num, current_string))\n",
    "            repeat_num = 0\n",
    "            current_string = \"\"\n",
    "        elif ch == \"]\":\n",
    "            num, prev_string = stack.pop()\n",
    "            current_string = prev_string + num * current_string\n",
    "        else:\n",
    "            current_string += ch\n",
    "\n",
    "    return current_string\n",
    "s = \"3[a]2[bc]\"\n",
    "decoded = decodeString(s)\n",
    "print(decoded)  # Output: \"aaabcbc\"\n"
   ]
  },
  {
   "cell_type": "markdown",
   "id": "55ab4b20",
   "metadata": {},
   "source": [
    "### Ans(8):"
   ]
  },
  {
   "cell_type": "code",
   "execution_count": 29,
   "id": "654bddb2",
   "metadata": {},
   "outputs": [
    {
     "name": "stdout",
     "output_type": "stream",
     "text": [
      "True\n"
     ]
    }
   ],
   "source": [
    "def buddyStrings(s, goal):\n",
    "    if s == goal:\n",
    "        return True\n",
    "\n",
    "    diff_indices = []\n",
    "    for i in range(len(s)):\n",
    "        if s[i] != goal[i]:\n",
    "            diff_indices.append(i)\n",
    "\n",
    "    if len(diff_indices) != 2:\n",
    "        return False\n",
    "\n",
    "    i, j = diff_indices\n",
    "    if s[i] == goal[j] and s[j] == goal[i]:\n",
    "        return True\n",
    "    else:\n",
    "        return False\n",
    "s = \"ab\"\n",
    "goal = \"ba\"\n",
    "result = buddyStrings(s, goal)\n",
    "print(result)  # Output: True\n"
   ]
  },
  {
   "cell_type": "code",
   "execution_count": null,
   "id": "427d86b4",
   "metadata": {},
   "outputs": [],
   "source": []
  }
 ],
 "metadata": {
  "kernelspec": {
   "display_name": "Python 3 (ipykernel)",
   "language": "python",
   "name": "python3"
  },
  "language_info": {
   "codemirror_mode": {
    "name": "ipython",
    "version": 3
   },
   "file_extension": ".py",
   "mimetype": "text/x-python",
   "name": "python",
   "nbconvert_exporter": "python",
   "pygments_lexer": "ipython3",
   "version": "3.9.13"
  }
 },
 "nbformat": 4,
 "nbformat_minor": 5
}
