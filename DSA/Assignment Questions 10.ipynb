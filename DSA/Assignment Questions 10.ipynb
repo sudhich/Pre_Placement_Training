{
 "cells": [
  {
   "cell_type": "markdown",
   "id": "997821a5",
   "metadata": {},
   "source": [
    "### Ans(1)"
   ]
  },
  {
   "cell_type": "code",
   "execution_count": 8,
   "id": "59467460",
   "metadata": {},
   "outputs": [
    {
     "name": "stdout",
     "output_type": "stream",
     "text": [
      "True\n",
      "False\n",
      "False\n"
     ]
    }
   ],
   "source": [
    "class Solution:\n",
    "    def isPowerOfThree(self, n: int) -> bool:\n",
    "        \n",
    "        #loop solution\n",
    "        x = 1\n",
    "        while x <= n:\n",
    "            if x != n:\n",
    "                x = x * 3\n",
    "                #print(x)\n",
    "            else:\n",
    "                #print(\"welcome\")\n",
    "                return True\n",
    "        #print(\"goodby\")\n",
    "        return False\n",
    "obj=Solution()\n",
    "print(obj.isPowerOfThree(27))  # Output: True\n",
    "print(obj.isPowerOfThree(0))   # Output: False\n",
    "print(obj.isPowerOfThree(-1))   # Output: False\n"
   ]
  },
  {
   "cell_type": "markdown",
   "id": "7ee383ab",
   "metadata": {},
   "source": [
    "## 2nd Method"
   ]
  },
  {
   "cell_type": "code",
   "execution_count": 13,
   "id": "a14a88b4",
   "metadata": {},
   "outputs": [
    {
     "name": "stdout",
     "output_type": "stream",
     "text": [
      "True\n",
      "False\n",
      "False\n"
     ]
    }
   ],
   "source": [
    "import math\n",
    "\n",
    "def isPowerOfThree(n):\n",
    "    if n <= 0:\n",
    "        return False\n",
    "    if n == 1:\n",
    "        return True\n",
    "    \n",
    "    power = math.log(n, 3)\n",
    "    return power.is_integer()\n",
    "\n",
    "print(obj.isPowerOfThree(27))  # Output: True\n",
    "print(obj.isPowerOfThree(0))   # Output: False\n",
    "print(obj.isPowerOfThree(-1))   # Output: False\n"
   ]
  },
  {
   "cell_type": "markdown",
   "id": "a01681d7",
   "metadata": {},
   "source": [
    "### Ans(2):"
   ]
  },
  {
   "cell_type": "code",
   "execution_count": 24,
   "id": "a6cbc50c",
   "metadata": {},
   "outputs": [
    {
     "name": "stdout",
     "output_type": "stream",
     "text": [
      "6\n",
      "1\n"
     ]
    }
   ],
   "source": [
    "class Solution:\n",
    "    def lastRemaining(self, n: int) -> int:\n",
    "        if n == 1:\n",
    "            return 1\n",
    "        return 2 * (n // 2 - self.lastRemaining(n // 2) + 1)\n",
    "    \n",
    "obj=Solution()\n",
    "print(obj.lastRemaining(9))  # Output: 6\n",
    "print(obj.lastRemaining(1))  # Output: 1"
   ]
  },
  {
   "cell_type": "markdown",
   "id": "1cdff67c",
   "metadata": {},
   "source": [
    "### Ans(3):"
   ]
  },
  {
   "cell_type": "code",
   "execution_count": 29,
   "id": "ec257aa2",
   "metadata": {},
   "outputs": [
    {
     "name": "stdout",
     "output_type": "stream",
     "text": [
      "abc\n",
      "ab\n",
      "ac\n",
      "a\n",
      "bc\n",
      "b\n",
      "c\n",
      "\n"
     ]
    }
   ],
   "source": [
    "def powerSet(string, index, curr):\n",
    "    # string : Stores input string\n",
    "    # curr : Stores current subset\n",
    "    # index : Index in current subset, curr\n",
    "    if index == len(string):\n",
    "        print(curr)\n",
    "        return\n",
    " \n",
    "    powerSet(string, index + 1,\n",
    "             curr + string[index])\n",
    "    powerSet(string, index + 1, curr)\n",
    " \n",
    " \n",
    "# Driver Code\n",
    "if __name__ == \"__main__\":\n",
    " \n",
    "    s1 = \"abc\"\n",
    "    index = 0\n",
    "    curr = \"\"\n",
    "    powerSet(s1, index, curr)"
   ]
  },
  {
   "cell_type": "markdown",
   "id": "4ae7acc0",
   "metadata": {},
   "source": [
    "### Ans(4):"
   ]
  },
  {
   "cell_type": "code",
   "execution_count": 1,
   "id": "e9647d4d",
   "metadata": {},
   "outputs": [
    {
     "name": "stdout",
     "output_type": "stream",
     "text": [
      "Length of 'abcd' is: 4\n",
      "Length of 'GEEKSFORGEEKS' is: 13\n"
     ]
    }
   ],
   "source": [
    "def calculate_length(string):\n",
    "    if string == '':\n",
    "        return 0\n",
    "    else:\n",
    "        return 1 + calculate_length(string[1:])\n",
    "\n",
    "# Example usage:\n",
    "str1 = \"abcd\"\n",
    "print(\"Length of '{}' is: {}\".format(str1, calculate_length(str1)))\n",
    "\n",
    "str2 = \"GEEKSFORGEEKS\"\n",
    "print(\"Length of '{}' is: {}\".format(str2, calculate_length(str2)))"
   ]
  },
  {
   "cell_type": "markdown",
   "id": "88862f58",
   "metadata": {},
   "source": [
    "### Ans(5):"
   ]
  },
  {
   "cell_type": "code",
   "execution_count": 9,
   "id": "a5336cce",
   "metadata": {},
   "outputs": [
    {
     "name": "stdout",
     "output_type": "stream",
     "text": [
      "7\n",
      "4\n"
     ]
    }
   ],
   "source": [
    "# Python 3 program to count substrings with same\n",
    "# first and last characters\n",
    " \n",
    "# Function to count substrings with same first and\n",
    "# last characters\n",
    "def countSubstrs(str, i, j, n):\n",
    " \n",
    "    # base cases\n",
    "    if (n == 1):\n",
    "        return 1\n",
    "    if (n <= 0):\n",
    "        return 0\n",
    " \n",
    "    res = (countSubstrs(str, i + 1, j, n - 1)\n",
    "        + countSubstrs(str, i, j - 1, n - 1)\n",
    "        - countSubstrs(str, i + 1, j - 1, n - 2))    \n",
    " \n",
    "    if (str[i] == str[j]):\n",
    "        res += 1\n",
    " \n",
    "    return res\n",
    " \n",
    "# driver code\n",
    "str = \"abcab\"\n",
    "n = len(str)\n",
    "print(countSubstrs(str, 0, n - 1, n))\n",
    "\n",
    "str = \"aba\"\n",
    "n = len(str)\n",
    "print(countSubstrs(str, 0, n - 1, n))"
   ]
  },
  {
   "cell_type": "markdown",
   "id": "8d148d5b",
   "metadata": {},
   "source": [
    "### Ans(6):"
   ]
  },
  {
   "cell_type": "code",
   "execution_count": 10,
   "id": "d20a3f92",
   "metadata": {},
   "outputs": [
    {
     "name": "stdout",
     "output_type": "stream",
     "text": [
      "Steps to solve Tower of Hanoi with N = 2:\n",
      "move disk 1 from rod 1 to rod 2\n",
      "move disk 2 from rod 1 to rod 3\n",
      "move disk 1 from rod 2 to rod 3\n",
      "Total moves: 3\n",
      "\n",
      "Steps to solve Tower of Hanoi with N = 3:\n",
      "move disk 1 from rod 1 to rod 3\n",
      "move disk 2 from rod 1 to rod 2\n",
      "move disk 1 from rod 3 to rod 2\n",
      "move disk 3 from rod 1 to rod 3\n",
      "move disk 1 from rod 2 to rod 1\n",
      "move disk 2 from rod 2 to rod 3\n",
      "move disk 1 from rod 1 to rod 3\n",
      "Total moves: 7\n"
     ]
    }
   ],
   "source": [
    "def tower_of_hanoi(n, source, destination, auxiliary):\n",
    "    if n == 1:\n",
    "        print(\"move disk 1 from rod {} to rod {}\".format(source, destination))\n",
    "        return 1\n",
    "\n",
    "    count = tower_of_hanoi(n-1, source, auxiliary, destination)\n",
    "    print(\"move disk {} from rod {} to rod {}\".format(n, source, destination))\n",
    "    count += 1\n",
    "    count += tower_of_hanoi(n-1, auxiliary, destination, source)\n",
    "\n",
    "    return count\n",
    "\n",
    "\n",
    "# Example usage:\n",
    "N1 = 2\n",
    "print(\"Steps to solve Tower of Hanoi with N = 2:\")\n",
    "total_moves1 = tower_of_hanoi(N1, 1, 3, 2)\n",
    "print(\"Total moves:\", total_moves1)\n",
    "\n",
    "N2 = 3\n",
    "print(\"\\nSteps to solve Tower of Hanoi with N = 3:\")\n",
    "total_moves2 = tower_of_hanoi(N2, 1, 3, 2)\n",
    "print(\"Total moves:\", total_moves2)\n",
    "    "
   ]
  },
  {
   "cell_type": "markdown",
   "id": "bc2d6d73",
   "metadata": {},
   "source": [
    "### Ans(7):"
   ]
  },
  {
   "cell_type": "code",
   "execution_count": 3,
   "id": "027179b7",
   "metadata": {},
   "outputs": [
    {
     "name": "stdout",
     "output_type": "stream",
     "text": [
      "Input: cd\n",
      "Output: cd dc\n",
      "Input: abb\n",
      "Output: abb abb bab bba bab bba\n"
     ]
    }
   ],
   "source": [
    "def permutations(str):\n",
    "    # Base case: if the string has only one character, return it as a single-element list\n",
    "    if len(str) == 1:\n",
    "        return [str]\n",
    "\n",
    "    # List to store permutations\n",
    "    perms = []\n",
    "\n",
    "    # Iterate through each character in the string\n",
    "    for i in range(len(str)):\n",
    "        # Extract the current character\n",
    "        current_char = str[i]\n",
    "\n",
    "        # Generate all permutations of the remaining characters\n",
    "        remaining_chars = str[:i] + str[i+1:]\n",
    "        sub_perms = permutations(remaining_chars)\n",
    "\n",
    "        # Add the current character to the beginning of each permutation\n",
    "        for sub_perm in sub_perms:\n",
    "            perms.append(current_char + sub_perm)\n",
    "\n",
    "    return perms\n",
    "\n",
    "# Test the function\n",
    "str = \"cd\"\n",
    "print(\"Input:\", str)\n",
    "print(\"Output:\", ' '.join(permutations(str)))\n",
    "\n",
    "str = \"abb\"\n",
    "print(\"Input:\", str)\n",
    "print(\"Output:\", ' '.join(permutations(str)))\n"
   ]
  },
  {
   "cell_type": "markdown",
   "id": "55ab4b20",
   "metadata": {},
   "source": [
    "### Ans(8):"
   ]
  },
  {
   "cell_type": "code",
   "execution_count": 5,
   "id": "6b3b864d",
   "metadata": {},
   "outputs": [
    {
     "name": "stdout",
     "output_type": "stream",
     "text": [
      "3\n"
     ]
    }
   ],
   "source": [
    "# Iterative Python3 program to count \n",
    "# total number of consonants \n",
    "  \n",
    "# Function to check for consonant\n",
    "def isConsonant(ch):\n",
    "      \n",
    "    # To handle lower case\n",
    "    ch = ch.upper()\n",
    "  \n",
    "    return not (ch == 'A' or ch == 'E' or \n",
    "                ch == 'I' or ch == 'O' or \n",
    "                ch == 'U') and ord(ch) >= 65 and ord(ch) <= 90\n",
    "  \n",
    "def totalConsonants(string):\n",
    "      \n",
    "    count = 0\n",
    "      \n",
    "    for i in range(len(string)):\n",
    "  \n",
    "        # To check is character is Consonant\n",
    "        if (isConsonant(string[i])):\n",
    "            count += 1\n",
    "              \n",
    "    return count\n",
    "  \n",
    "# Driver code\n",
    "string = \"abc de\"\n",
    "print(totalConsonants(string))\n"
   ]
  },
  {
   "cell_type": "markdown",
   "id": "63878de9",
   "metadata": {},
   "source": [
    "### 2nd Method"
   ]
  },
  {
   "cell_type": "code",
   "execution_count": 6,
   "id": "654bddb2",
   "metadata": {},
   "outputs": [
    {
     "name": "stdout",
     "output_type": "stream",
     "text": [
      "Input: abc de\n",
      "Number of consonants: 3\n",
      "Input: geeksforgeeks portal\n",
      "Number of consonants: 12\n"
     ]
    }
   ],
   "source": [
    "def count_consonants(str):\n",
    "    consonants = \"bcdfghjklmnpqrstvwxyzBCDFGHJKLMNPQRSTVWXYZ\"\n",
    "    count = 0\n",
    "    for char in str:\n",
    "        if char in consonants:\n",
    "            count += 1\n",
    "    return count\n",
    "\n",
    "# Test the function\n",
    "str = \"abc de\"\n",
    "print(\"Input:\", str)\n",
    "print(\"Number of consonants:\", count_consonants(str))\n",
    "\n",
    "str = \"geeksforgeeks portal\"\n",
    "print(\"Input:\", str)\n",
    "print(\"Number of consonants:\", count_consonants(str))\n"
   ]
  },
  {
   "cell_type": "code",
   "execution_count": null,
   "id": "427d86b4",
   "metadata": {},
   "outputs": [],
   "source": []
  }
 ],
 "metadata": {
  "kernelspec": {
   "display_name": "Python 3 (ipykernel)",
   "language": "python",
   "name": "python3"
  },
  "language_info": {
   "codemirror_mode": {
    "name": "ipython",
    "version": 3
   },
   "file_extension": ".py",
   "mimetype": "text/x-python",
   "name": "python",
   "nbconvert_exporter": "python",
   "pygments_lexer": "ipython3",
   "version": "3.9.13"
  }
 },
 "nbformat": 4,
 "nbformat_minor": 5
}
